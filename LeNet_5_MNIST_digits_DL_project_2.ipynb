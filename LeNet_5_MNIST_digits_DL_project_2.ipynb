{
  "nbformat": 4,
  "nbformat_minor": 0,
  "metadata": {
    "colab": {
      "provenance": [],
      "collapsed_sections": [
        "LdE47_43g9kM",
        "QekRedYNZ8Pw"
      ],
      "toc_visible": true,
      "include_colab_link": true
    },
    "kernelspec": {
      "name": "python3",
      "display_name": "Python 3"
    },
    "language_info": {
      "name": "python"
    },
    "accelerator": "GPU"
  },
  "cells": [
    {
      "cell_type": "markdown",
      "metadata": {
        "id": "view-in-github",
        "colab_type": "text"
      },
      "source": [
        "<a href=\"https://colab.research.google.com/github/Mostafa3zazi/LeNet-5-network-MNIST-digits/blob/main/LeNet_5_MNIST_digits_DL_project_2.ipynb\" target=\"_parent\"><img src=\"https://colab.research.google.com/assets/colab-badge.svg\" alt=\"Open In Colab\"/></a>"
      ]
    },
    {
      "cell_type": "markdown",
      "metadata": {
        "id": "T6KA3CODM1Mh"
      },
      "source": [
        "# Get Started (Importing packages & Loading the data)\n"
      ]
    },
    {
      "cell_type": "markdown",
      "metadata": {
        "id": "lc9UAIcPgaVE"
      },
      "source": [
        "## Import packages"
      ]
    },
    {
      "cell_type": "code",
      "execution_count": null,
      "metadata": {
        "id": "3u3DacZjfTTn"
      },
      "outputs": [],
      "source": [
        "import numpy as np \n",
        "import pandas as pd \n",
        "import seaborn as sns \n",
        "import tensorflow as tf\n",
        "import matplotlib.pyplot as plt \n",
        "%matplotlib inline\n",
        "from sklearn.model_selection import StratifiedKFold,train_test_split,cross_val_score,GridSearchCV,KFold,RandomizedSearchCV\n",
        "from sklearn.metrics import classification_report,confusion_matrix,roc_curve,precision_score,recall_score,f1_score,precision_recall_curve\n",
        "sns.set()\n",
        "from sklearn.pipeline import make_pipeline\n",
        "from sklearn.preprocessing import StandardScaler ,LabelEncoder\n",
        "from sklearn.svm import SVC\n",
        "from time import time\n",
        "import datetime\n",
        "from sklearn.svm import LinearSVC\n",
        "from sklearn.decomposition import PCA\n",
        "from PIL import Image"
      ]
    },
    {
      "cell_type": "code",
      "source": [
        "import keras\n",
        "from keras.layers import Dense, Dropout, Activation, Conv2D, MaxPooling2D,\\\n",
        " Flatten, BatchNormalization, SpatialDropout2D\n",
        "from keras.models import Sequential\n",
        "from tensorflow.keras.optimizers import Adam, Adagrad, Adadelta, RMSprop\n"
      ],
      "metadata": {
        "id": "6mal5DBIkIFi"
      },
      "execution_count": null,
      "outputs": []
    },
    {
      "cell_type": "code",
      "source": [
        "import tensorboard"
      ],
      "metadata": {
        "id": "UaJcnCFXPUbR"
      },
      "execution_count": null,
      "outputs": []
    },
    {
      "cell_type": "code",
      "source": [
        "# Load the TensorBoard notebook extension\n",
        "%load_ext tensorboard"
      ],
      "metadata": {
        "id": "B-YHY83vPgqX"
      },
      "execution_count": null,
      "outputs": []
    },
    {
      "cell_type": "code",
      "execution_count": null,
      "metadata": {
        "id": "KtIX27Pedeep"
      },
      "outputs": [],
      "source": [
        "# some seeting for pandas and hvplot\n",
        "\n",
        "pd.options.display.max_columns = 100\n",
        "pd.options.display.max_rows = 300\n",
        "pd.options.display.max_colwidth = 100\n",
        "np.set_printoptions(threshold=2000)"
      ]
    },
    {
      "cell_type": "markdown",
      "metadata": {
        "id": "nJdDZyhn3L41"
      },
      "source": [
        "## Loading data"
      ]
    },
    {
      "cell_type": "code",
      "execution_count": null,
      "metadata": {
        "id": "7NRZsnz4YSbm",
        "colab": {
          "base_uri": "https://localhost:8080/"
        },
        "outputId": "d83800ee-90a2-4afc-8238-c0542d7f776d"
      },
      "outputs": [
        {
          "output_type": "stream",
          "name": "stdout",
          "text": [
            "Downloading data from https://storage.googleapis.com/tensorflow/tf-keras-datasets/train-labels-idx1-ubyte.gz\n",
            "32768/29515 [=================================] - 0s 0us/step\n",
            "40960/29515 [=========================================] - 0s 0us/step\n",
            "Downloading data from https://storage.googleapis.com/tensorflow/tf-keras-datasets/train-images-idx3-ubyte.gz\n",
            "26427392/26421880 [==============================] - 0s 0us/step\n",
            "26435584/26421880 [==============================] - 0s 0us/step\n",
            "Downloading data from https://storage.googleapis.com/tensorflow/tf-keras-datasets/t10k-labels-idx1-ubyte.gz\n",
            "16384/5148 [===============================================================================================] - 0s 0us/step\n",
            "Downloading data from https://storage.googleapis.com/tensorflow/tf-keras-datasets/t10k-images-idx3-ubyte.gz\n",
            "4423680/4422102 [==============================] - 0s 0us/step\n",
            "4431872/4422102 [==============================] - 0s 0us/step\n"
          ]
        }
      ],
      "source": [
        "# Load the Fashion MNIST dataset\n",
        "fmnist = tf.keras.datasets.fashion_mnist\n",
        "(training_images, training_labels), (test_images, test_labels) = fmnist.load_data()"
      ]
    },
    {
      "cell_type": "markdown",
      "metadata": {
        "id": "UyowdfatAMBn"
      },
      "source": [
        "# Data visualization"
      ]
    },
    {
      "cell_type": "code",
      "source": [
        "# You can put between 0 to 59999 here\n",
        "index = 0\n",
        "\n",
        "# Set number of characters per row when printing\n",
        "np.set_printoptions(linewidth=320)\n",
        "\n",
        "# Print the label and image\n",
        "print(f'LABEL: {training_labels[index]}')\n",
        "print(f'\\nIMAGE PIXEL ARRAY:\\n {training_images[index]}')\n"
      ],
      "metadata": {
        "colab": {
          "base_uri": "https://localhost:8080/"
        },
        "id": "WhTzPMKBD_S4",
        "outputId": "1e5b0931-a2ef-42ba-fc6c-d679a0e85d88"
      },
      "execution_count": null,
      "outputs": [
        {
          "output_type": "stream",
          "name": "stdout",
          "text": [
            "LABEL: 9\n",
            "\n",
            "IMAGE PIXEL ARRAY:\n",
            " [[  0   0   0   0   0   0   0   0   0   0   0   0   0   0   0   0   0   0   0   0   0   0   0   0   0   0   0   0]\n",
            " [  0   0   0   0   0   0   0   0   0   0   0   0   0   0   0   0   0   0   0   0   0   0   0   0   0   0   0   0]\n",
            " [  0   0   0   0   0   0   0   0   0   0   0   0   0   0   0   0   0   0   0   0   0   0   0   0   0   0   0   0]\n",
            " [  0   0   0   0   0   0   0   0   0   0   0   0   1   0   0  13  73   0   0   1   4   0   0   0   0   1   1   0]\n",
            " [  0   0   0   0   0   0   0   0   0   0   0   0   3   0  36 136 127  62  54   0   0   0   1   3   4   0   0   3]\n",
            " [  0   0   0   0   0   0   0   0   0   0   0   0   6   0 102 204 176 134 144 123  23   0   0   0   0  12  10   0]\n",
            " [  0   0   0   0   0   0   0   0   0   0   0   0   0   0 155 236 207 178 107 156 161 109  64  23  77 130  72  15]\n",
            " [  0   0   0   0   0   0   0   0   0   0   0   1   0  69 207 223 218 216 216 163 127 121 122 146 141  88 172  66]\n",
            " [  0   0   0   0   0   0   0   0   0   1   1   1   0 200 232 232 233 229 223 223 215 213 164 127 123 196 229   0]\n",
            " [  0   0   0   0   0   0   0   0   0   0   0   0   0 183 225 216 223 228 235 227 224 222 224 221 223 245 173   0]\n",
            " [  0   0   0   0   0   0   0   0   0   0   0   0   0 193 228 218 213 198 180 212 210 211 213 223 220 243 202   0]\n",
            " [  0   0   0   0   0   0   0   0   0   1   3   0  12 219 220 212 218 192 169 227 208 218 224 212 226 197 209  52]\n",
            " [  0   0   0   0   0   0   0   0   0   0   6   0  99 244 222 220 218 203 198 221 215 213 222 220 245 119 167  56]\n",
            " [  0   0   0   0   0   0   0   0   0   4   0   0  55 236 228 230 228 240 232 213 218 223 234 217 217 209  92   0]\n",
            " [  0   0   1   4   6   7   2   0   0   0   0   0 237 226 217 223 222 219 222 221 216 223 229 215 218 255  77   0]\n",
            " [  0   3   0   0   0   0   0   0   0  62 145 204 228 207 213 221 218 208 211 218 224 223 219 215 224 244 159   0]\n",
            " [  0   0   0   0  18  44  82 107 189 228 220 222 217 226 200 205 211 230 224 234 176 188 250 248 233 238 215   0]\n",
            " [  0  57 187 208 224 221 224 208 204 214 208 209 200 159 245 193 206 223 255 255 221 234 221 211 220 232 246   0]\n",
            " [  3 202 228 224 221 211 211 214 205 205 205 220 240  80 150 255 229 221 188 154 191 210 204 209 222 228 225   0]\n",
            " [ 98 233 198 210 222 229 229 234 249 220 194 215 217 241  65  73 106 117 168 219 221 215 217 223 223 224 229  29]\n",
            " [ 75 204 212 204 193 205 211 225 216 185 197 206 198 213 240 195 227 245 239 223 218 212 209 222 220 221 230  67]\n",
            " [ 48 203 183 194 213 197 185 190 194 192 202 214 219 221 220 236 225 216 199 206 186 181 177 172 181 205 206 115]\n",
            " [  0 122 219 193 179 171 183 196 204 210 213 207 211 210 200 196 194 191 195 191 198 192 176 156 167 177 210  92]\n",
            " [  0   0  74 189 212 191 175 172 175 181 185 188 189 188 193 198 204 209 210 210 211 188 188 194 192 216 170   0]\n",
            " [  2   0   0   0  66 200 222 237 239 242 246 243 244 221 220 193 191 179 182 182 181 176 166 168  99  58   0   0]\n",
            " [  0   0   0   0   0   0   0  40  61  44  72  41  35   0   0   0   0   0   0   0   0   0   0   0   0   0   0   0]\n",
            " [  0   0   0   0   0   0   0   0   0   0   0   0   0   0   0   0   0   0   0   0   0   0   0   0   0   0   0   0]\n",
            " [  0   0   0   0   0   0   0   0   0   0   0   0   0   0   0   0   0   0   0   0   0   0   0   0   0   0   0   0]]\n"
          ]
        }
      ]
    },
    {
      "cell_type": "code",
      "source": [
        "# Visualize the image\n",
        "plt.imshow(training_images[index])"
      ],
      "metadata": {
        "colab": {
          "base_uri": "https://localhost:8080/",
          "height": 286
        },
        "id": "Vt2leRqHEOdy",
        "outputId": "2c304369-b7ea-43d4-8723-442f4f623f52"
      },
      "execution_count": null,
      "outputs": [
        {
          "output_type": "execute_result",
          "data": {
            "text/plain": [
              "<matplotlib.image.AxesImage at 0x7fa179630e10>"
            ]
          },
          "metadata": {},
          "execution_count": 9
        },
        {
          "output_type": "display_data",
          "data": {
            "text/plain": [
              "<Figure size 432x288 with 1 Axes>"
            ],
            "image/png": "[encoded data removed]"
          },
          "metadata": {}
        }
      ]
    },
    {
      "cell_type": "code",
      "source": [
        "Image.fromarray(training_images[index]).resize((128, 128))"
      ],
      "metadata": {
        "colab": {
          "base_uri": "https://localhost:8080/",
          "height": 145
        },
        "id": "0nwB5UdHWEns",
        "outputId": "18beca01-0af3-4972-d597-0f274509f62f"
      },
      "execution_count": null,
      "outputs": [
        {
          "output_type": "execute_result",
          "data": {
            "text/plain": [
              "<PIL.Image.Image image mode=L size=128x128 at 0x7FA1795A8190>"
            ],
            "image/png": "[encoded data removed]"
          },
          "metadata": {},
          "execution_count": 10
        }
      ]
    },
    {
      "cell_type": "code",
      "source": [
        "# plot a figure for units_sold data counting after cleaning it\n",
        "\n",
        "plt.figure(figsize=(10, 6))\n",
        "ax = sns.countplot(training_labels,\n",
        "              palette = \"Set2\")\n",
        "\n",
        "# ax.set_xlabel('labels')\n",
        "plt.show()"
      ],
      "metadata": {
        "colab": {
          "base_uri": "https://localhost:8080/",
          "height": 432
        },
        "id": "Do8CdNd6WIBZ",
        "outputId": "d07465a7-8358-4615-e708-ef9184845342"
      },
      "execution_count": null,
      "outputs": [
        {
          "output_type": "stream",
          "name": "stderr",
          "text": [
            "/usr/local/lib/python3.7/dist-packages/seaborn/_decorators.py:43: FutureWarning: Pass the following variable as a keyword arg: x. From version 0.12, the only valid positional argument will be `data`, and passing other arguments without an explicit keyword will result in an error or misinterpretation.\n",
            "  FutureWarning\n"
          ]
        },
        {
          "output_type": "display_data",
          "data": {
            "text/plain": [
              "<Figure size 720x432 with 1 Axes>"
            ],
            "image/png": "[encoded data removed]"
          },
          "metadata": {}
        }
      ]
    },
    {
      "cell_type": "markdown",
      "source": [
        "##Draw some of the images"
      ],
      "metadata": {
        "id": "jQv4nQDwvRwY"
      }
    },
    {
      "cell_type": "code",
      "execution_count": null,
      "metadata": {
        "colab": {
          "base_uri": "https://localhost:8080/",
          "height": 867
        },
        "outputId": "844d4805-b3a6-410e-9af9-f7f9ac7bd364",
        "id": "iXlrzHM1W1L6"
      },
      "outputs": [
        {
          "output_type": "display_data",
          "data": {
            "text/plain": [
              "<Figure size 1440x1080 with 25 Axes>"
            ],
            "image/png": "[encoded data removed]"
          },
          "metadata": {}
        }
      ],
      "source": [
        "import matplotlib.pyplot as plt\n",
        "import os\n",
        "from keras.preprocessing.image import load_img\n",
        "plt.figure(figsize=(20,15))\n",
        "\n",
        "for i in range(25):\n",
        "    j=np.random.choice(range(len(training_images)))\n",
        "    plt.subplot(5,5,i+1)\n",
        "    img=training_images[j]\n",
        "    plt.grid(b=None)\n",
        "    plt.imshow(img)"
      ]
    },
    {
      "cell_type": "code",
      "source": [
        "rows = 5\n",
        "cols = 15\n",
        "fig = plt.figure(figsize=(15,7))\n",
        "\n",
        "for i in range(1, rows*cols+1):\n",
        "    j=np.random.choice(range(len(training_images)))\n",
        "    fig.add_subplot(rows, cols, i)\n",
        "    img=training_images[j]\n",
        "    plt.imshow(np.squeeze(img), cmap='gray')\n",
        "    plt.axis(False)\n",
        "    fig.add_subplot\n"
      ],
      "metadata": {
        "colab": {
          "base_uri": "https://localhost:8080/",
          "height": 379
        },
        "id": "61RjqkyUNpU-",
        "outputId": "be48c288-87a5-4274-8759-b47675d96172"
      },
      "execution_count": null,
      "outputs": [
        {
          "output_type": "display_data",
          "data": {
            "text/plain": [
              "<Figure size 1080x504 with 75 Axes>"
            ],
            "image/png": "[encoded data removed]"
          },
          "metadata": {
            "needs_background": "light"
          }
        }
      ]
    },
    {
      "cell_type": "markdown",
      "metadata": {
        "id": "HztsAMemVJrS"
      },
      "source": [
        "# Data Preprocessing\n"
      ]
    },
    {
      "cell_type": "markdown",
      "metadata": {
        "id": "38-HwHkCOwDC"
      },
      "source": [
        "## check missing values"
      ]
    },
    {
      "cell_type": "code",
      "execution_count": null,
      "metadata": {
        "colab": {
          "base_uri": "https://localhost:8080/"
        },
        "id": "5z4n0m_dxRSC",
        "outputId": "29ba1a65-d061-4192-8a80-2003b4029bcf"
      },
      "outputs": [
        {
          "output_type": "execute_result",
          "data": {
            "text/plain": [
              "0"
            ]
          },
          "metadata": {},
          "execution_count": 13
        }
      ],
      "source": [
        "pd.DataFrame(training_labels).isna().sum().sum() # no missing data"
      ]
    },
    {
      "cell_type": "code",
      "execution_count": null,
      "metadata": {
        "colab": {
          "base_uri": "https://localhost:8080/"
        },
        "id": "W6gEaif7-8mG",
        "outputId": "cec34655-a41d-4a7e-97ca-f9b1f3505cc9"
      },
      "outputs": [
        {
          "output_type": "execute_result",
          "data": {
            "text/plain": [
              "0"
            ]
          },
          "metadata": {},
          "execution_count": 14
        }
      ],
      "source": [
        "pd.DataFrame(test_labels).isna().sum().sum()"
      ]
    },
    {
      "cell_type": "markdown",
      "metadata": {
        "id": "vWHKaBvFWTSV"
      },
      "source": [
        "## Normalization"
      ]
    },
    {
      "cell_type": "code",
      "source": [
        "# Normalize the pixel values of the train and test images\n",
        "training_images = training_images / 255.0\n",
        "test_images = test_images / 255.0"
      ],
      "metadata": {
        "id": "OJ7lniOzWQzJ"
      },
      "execution_count": null,
      "outputs": []
    },
    {
      "cell_type": "markdown",
      "metadata": {
        "id": "Q7n6qCyjpOIK"
      },
      "source": [
        "## Encoding the data"
      ]
    },
    {
      "cell_type": "code",
      "source": [
        "training_labels_encoded = tf.keras.utils.to_categorical(training_labels, num_classes = 10)\n",
        "test_labels_encoded = tf.keras.utils.to_categorical(test_labels, num_classes = 10)"
      ],
      "metadata": {
        "id": "MW1bcRUMn3rj"
      },
      "execution_count": null,
      "outputs": []
    },
    {
      "cell_type": "markdown",
      "metadata": {
        "id": "oEqyMT05mJMF"
      },
      "source": [
        "## Reshaping"
      ]
    },
    {
      "cell_type": "code",
      "source": [
        "training_images = training_images.reshape(-1,28,28,1)\n",
        "test_images= test_images.reshape(-1,28,28,1)"
      ],
      "metadata": {
        "id": "Q66PbXT7WYDj"
      },
      "execution_count": null,
      "outputs": []
    },
    {
      "cell_type": "code",
      "source": [
        "# Print the dimensionality of the data\n",
        "print('The dimension of the train data:')\n",
        "print(training_images.shape)\n",
        "print('\\nThe dimension of the train labels:')\n",
        "print(training_labels.shape)\n",
        "\n",
        "print('\\n\\nThe dimension of the validation data:')\n",
        "print(test_images.shape)\n",
        "print('\\nThe dimension of the validation labels:')\n",
        "print(test_labels.shape)"
      ],
      "metadata": {
        "colab": {
          "base_uri": "https://localhost:8080/"
        },
        "id": "A_xzX73_mxE_",
        "outputId": "d602cd65-d7f2-41df-e5bd-35a5a335f6e2"
      },
      "execution_count": null,
      "outputs": [
        {
          "output_type": "stream",
          "name": "stdout",
          "text": [
            "The dimension of the train data:\n",
            "(60000, 28, 28, 1)\n",
            "\n",
            "The dimension of the train labels:\n",
            "(60000,)\n",
            "\n",
            "\n",
            "The dimension of the validation data:\n",
            "(10000, 28, 28, 1)\n",
            "\n",
            "The dimension of the validation labels:\n",
            "(10000,)\n"
          ]
        }
      ]
    },
    {
      "cell_type": "markdown",
      "source": [
        "# Building Learning Model"
      ],
      "metadata": {
        "id": "l24YEFKBA00d"
      }
    },
    {
      "cell_type": "markdown",
      "source": [
        "## LeNet-5\n"
      ],
      "metadata": {
        "id": "y5o2WkiXLMvn"
      }
    },
    {
      "cell_type": "code",
      "source": [
        "rm -rf ./logs/ # remove previous log after each run"
      ],
      "metadata": {
        "id": "ZD3vguR2Pk-e"
      },
      "execution_count": null,
      "outputs": []
    },
    {
      "cell_type": "code",
      "source": [
        "# Create function returning a compiled network\n",
        "def create_network():\n",
        "  model = Sequential()\n",
        "  model.add(Conv2D(6, (5, 5),padding='same', activation='relu',kernel_initializer='he_uniform', input_shape=(training_images[0].shape)))\n",
        "  model.add(MaxPooling2D(pool_size=(2, 2))) \n",
        "\n",
        "  model.add(Conv2D(32, (5, 5), kernel_initializer='he_uniform', activation='relu'))\n",
        "  model.add(Dropout(0.5))\n",
        "  model.add(MaxPooling2D(pool_size=(2, 2))) \n",
        "\n",
        "  model.add(Conv2D(120, (5, 5), kernel_initializer='he_uniform', activation='relu'))\n",
        "  model.add(Flatten())\n",
        "  model.add(Dense(84, activation='relu'))\n",
        "\n",
        "  model.add(Dense(10, activation='softmax'))\n",
        "  adam = Adam()\n",
        "  model.compile(loss='categorical_crossentropy', optimizer=adam,metrics=['accuracy'])\n",
        "\n",
        "  return model"
      ],
      "metadata": {
        "id": "xw-x-5yYkpGW"
      },
      "execution_count": null,
      "outputs": []
    },
    {
      "cell_type": "code",
      "source": [
        "model = create_network()\n",
        "model.summary()"
      ],
      "metadata": {
        "colab": {
          "base_uri": "https://localhost:8080/"
        },
        "id": "kBr9AHLgqabp",
        "outputId": "d986f240-077e-4837-bc7d-eda20fd8e142"
      },
      "execution_count": null,
      "outputs": [
        {
          "output_type": "stream",
          "name": "stdout",
          "text": [
            "Model: \"sequential_1\"\n",
            "_________________________________________________________________\n",
            " Layer (type)                Output Shape              Param #   \n",
            "=================================================================\n",
            " conv2d_3 (Conv2D)           (None, 28, 28, 6)         156       \n",
            "                                                                 \n",
            " max_pooling2d_2 (MaxPooling  (None, 14, 14, 6)        0         \n",
            " 2D)                                                             \n",
            "                                                                 \n",
            " conv2d_4 (Conv2D)           (None, 10, 10, 32)        4832      \n",
            "                                                                 \n",
            " dropout_1 (Dropout)         (None, 10, 10, 32)        0         \n",
            "                                                                 \n",
            " max_pooling2d_3 (MaxPooling  (None, 5, 5, 32)         0         \n",
            " 2D)                                                             \n",
            "                                                                 \n",
            " conv2d_5 (Conv2D)           (None, 1, 1, 120)         96120     \n",
            "                                                                 \n",
            " flatten_1 (Flatten)         (None, 120)               0         \n",
            "                                                                 \n",
            " dense_2 (Dense)             (None, 84)                10164     \n",
            "                                                                 \n",
            " dense_3 (Dense)             (None, 10)                850       \n",
            "                                                                 \n",
            "=================================================================\n",
            "Total params: 112,122\n",
            "Trainable params: 112,122\n",
            "Non-trainable params: 0\n",
            "_________________________________________________________________\n"
          ]
        }
      ]
    },
    {
      "cell_type": "code",
      "source": [
        "hist = model.fit(\n",
        "    training_images, \n",
        "    training_labels_encoded, \n",
        "    validation_data = (test_images, test_labels_encoded),\n",
        "    epochs=60,\n",
        "    batch_size=128,\n",
        "    callbacks=[\n",
        "        tensorboard_callback,\n",
        "        tf.keras.callbacks.EarlyStopping(monitor='val_loss', patience=5 )\n",
        "    ],\n",
        "    verbose=1)\n"
      ],
      "metadata": {
        "colab": {
          "base_uri": "https://localhost:8080/"
        },
        "id": "dtTbLEy0kOo4",
        "outputId": "b73c95a6-2863-43ce-c39a-5e41256f1d23"
      },
      "execution_count": null,
      "outputs": [
        {
          "output_type": "stream",
          "name": "stdout",
          "text": [
            "Epoch 1/60\n",
            "469/469 [==============================] - 35s 74ms/step - loss: 0.5555 - accuracy: 0.7972 - val_loss: 0.4449 - val_accuracy: 0.8557\n",
            "Epoch 2/60\n",
            "469/469 [==============================] - 35s 74ms/step - loss: 0.3912 - accuracy: 0.8571 - val_loss: 0.3958 - val_accuracy: 0.8654\n",
            "Epoch 3/60\n",
            "469/469 [==============================] - 34s 73ms/step - loss: 0.3469 - accuracy: 0.8727 - val_loss: 0.3759 - val_accuracy: 0.8744\n",
            "Epoch 4/60\n",
            "469/469 [==============================] - 34s 73ms/step - loss: 0.3198 - accuracy: 0.8816 - val_loss: 0.3414 - val_accuracy: 0.8846\n",
            "Epoch 5/60\n",
            "469/469 [==============================] - 35s 75ms/step - loss: 0.3026 - accuracy: 0.8887 - val_loss: 0.3379 - val_accuracy: 0.8873\n",
            "Epoch 6/60\n",
            "469/469 [==============================] - 35s 74ms/step - loss: 0.2856 - accuracy: 0.8932 - val_loss: 0.3085 - val_accuracy: 0.8936\n",
            "Epoch 7/60\n",
            "469/469 [==============================] - 34s 72ms/step - loss: 0.2764 - accuracy: 0.8958 - val_loss: 0.3041 - val_accuracy: 0.8940\n",
            "Epoch 8/60\n",
            "469/469 [==============================] - 35s 74ms/step - loss: 0.2655 - accuracy: 0.9015 - val_loss: 0.2950 - val_accuracy: 0.8983\n",
            "Epoch 9/60\n",
            "469/469 [==============================] - 34s 73ms/step - loss: 0.2549 - accuracy: 0.9048 - val_loss: 0.2947 - val_accuracy: 0.8953\n",
            "Epoch 10/60\n",
            "469/469 [==============================] - 34s 73ms/step - loss: 0.2449 - accuracy: 0.9087 - val_loss: 0.2912 - val_accuracy: 0.8982\n",
            "Epoch 11/60\n",
            "469/469 [==============================] - 35s 75ms/step - loss: 0.2426 - accuracy: 0.9094 - val_loss: 0.2793 - val_accuracy: 0.9026\n",
            "Epoch 12/60\n",
            "469/469 [==============================] - 35s 74ms/step - loss: 0.2329 - accuracy: 0.9123 - val_loss: 0.2653 - val_accuracy: 0.9082\n",
            "Epoch 13/60\n",
            "469/469 [==============================] - 35s 74ms/step - loss: 0.2255 - accuracy: 0.9141 - val_loss: 0.2661 - val_accuracy: 0.9034\n",
            "Epoch 14/60\n",
            "469/469 [==============================] - 34s 72ms/step - loss: 0.2189 - accuracy: 0.9170 - val_loss: 0.2690 - val_accuracy: 0.9057\n",
            "Epoch 15/60\n",
            "469/469 [==============================] - 35s 74ms/step - loss: 0.2125 - accuracy: 0.9197 - val_loss: 0.2554 - val_accuracy: 0.9085\n",
            "Epoch 16/60\n",
            "469/469 [==============================] - 34s 73ms/step - loss: 0.2060 - accuracy: 0.9223 - val_loss: 0.2553 - val_accuracy: 0.9088\n",
            "Epoch 17/60\n",
            "469/469 [==============================] - 35s 74ms/step - loss: 0.2018 - accuracy: 0.9234 - val_loss: 0.2563 - val_accuracy: 0.9102\n",
            "Epoch 18/60\n",
            "469/469 [==============================] - 35s 75ms/step - loss: 0.1966 - accuracy: 0.9258 - val_loss: 0.2592 - val_accuracy: 0.9039\n",
            "Epoch 19/60\n",
            "469/469 [==============================] - 34s 73ms/step - loss: 0.1934 - accuracy: 0.9265 - val_loss: 0.2490 - val_accuracy: 0.9119\n",
            "Epoch 20/60\n",
            "469/469 [==============================] - 35s 75ms/step - loss: 0.1887 - accuracy: 0.9276 - val_loss: 0.2436 - val_accuracy: 0.9108\n",
            "Epoch 21/60\n",
            "469/469 [==============================] - 35s 75ms/step - loss: 0.1827 - accuracy: 0.9311 - val_loss: 0.2509 - val_accuracy: 0.9062\n",
            "Epoch 22/60\n",
            "469/469 [==============================] - 35s 75ms/step - loss: 0.1809 - accuracy: 0.9308 - val_loss: 0.2522 - val_accuracy: 0.9068\n",
            "Epoch 23/60\n",
            "469/469 [==============================] - 35s 75ms/step - loss: 0.1793 - accuracy: 0.9322 - val_loss: 0.2447 - val_accuracy: 0.9118\n",
            "Epoch 24/60\n",
            "469/469 [==============================] - 35s 75ms/step - loss: 0.1737 - accuracy: 0.9332 - val_loss: 0.2462 - val_accuracy: 0.9108\n",
            "Epoch 25/60\n",
            "469/469 [==============================] - 35s 75ms/step - loss: 0.1709 - accuracy: 0.9343 - val_loss: 0.2488 - val_accuracy: 0.9105\n"
          ]
        }
      ]
    },
    {
      "cell_type": "code",
      "source": [
        "all_images = np.concatenate((training_images, test_images), axis=0)\n",
        "all_labels = np.concatenate((training_labels, test_labels), axis=0)\n",
        "all_labels = tf.keras.utils.to_categorical(all_labels, num_classes = 10)"
      ],
      "metadata": {
        "id": "-ZR04pqnx0XS"
      },
      "execution_count": null,
      "outputs": []
    },
    {
      "cell_type": "code",
      "source": [
        "!pip install scikeras tensorflow"
      ],
      "metadata": {
        "id": "FBtv4inC3wr1"
      },
      "execution_count": null,
      "outputs": []
    },
    {
      "cell_type": "code",
      "source": [
        "# Wrap Keras model so it can be used by scikit-learn\n",
        "from scikeras.wrappers import KerasClassifier\n",
        "neural_network = KerasClassifier(model=create_network, \n",
        "                                 epochs=10, \n",
        "                                 batch_size=64, \n",
        "                                 verbose=0)"
      ],
      "metadata": {
        "id": "jlgUtDWI42wm"
      },
      "execution_count": null,
      "outputs": []
    },
    {
      "cell_type": "code",
      "source": [
        "%%time\n",
        "cv = KFold(n_splits=5, random_state=1, shuffle=True)\n",
        "# evaluate model\n",
        "scores = cross_val_score(neural_network, all_images, all_labels, scoring='accuracy', cv=5)\n",
        "# report performance\n",
        "print('Accuracy: %.3f (%.3f)' % (np.mean(scores), np.std(scores)))\n",
        "scores"
      ],
      "metadata": {
        "colab": {
          "base_uri": "https://localhost:8080/"
        },
        "id": "C0tSQ70Uwz3_",
        "outputId": "d5e7c569-b46d-49c9-969d-65231e9a4e54"
      },
      "execution_count": null,
      "outputs": [
        {
          "output_type": "stream",
          "name": "stdout",
          "text": [
            "Accuracy: 0.909 (0.001)\n",
            "CPU times: user 47min 35s, sys: 1min 17s, total: 48min 52s\n",
            "Wall time: 26min 15s\n"
          ]
        }
      ]
    },
    {
      "cell_type": "code",
      "source": [
        "val_acc = hist.history['val_accuracy']\n",
        "acc = hist.history['accuracy']\n",
        "val_loss = hist.history['val_loss']\n",
        "loss = hist.history['loss']"
      ],
      "metadata": {
        "id": "XvSKh0JGyoZJ"
      },
      "execution_count": null,
      "outputs": []
    },
    {
      "cell_type": "code",
      "source": [
        "print(\"\\nValue Accuracy | \",round(np.mean(scores)*100,2),'%')\n",
        "fig = plt.figure(figsize=(16,6))\n",
        "plt.plot(np.arange(len(val_acc)),val_acc,label='val_accuracy')\n",
        "plt.plot(np.arange(len(acc)),acc,label='Accuracy')\n",
        "plt.xlabel(\"EPOCHS\")\n",
        "plt.ylabel('ACCURACY')\n",
        "plt.legend()\n",
        "plt.grid()\n",
        "sns.despine(left=True)\n",
        "plt.show()"
      ],
      "metadata": {
        "colab": {
          "base_uri": "https://localhost:8080/",
          "height": 430
        },
        "id": "q4c_Bsv6OVIq",
        "outputId": "fbd05f9c-1920-474f-d285-e50de1002762"
      },
      "execution_count": null,
      "outputs": [
        {
          "output_type": "stream",
          "name": "stdout",
          "text": [
            "\n",
            "Value Accuracy |  90.88 %\n"
          ]
        },
        {
          "output_type": "display_data",
          "data": {
            "text/plain": [
              "<Figure size 1152x432 with 1 Axes>"
            ],
            "image/png": "[encoded data removed]"
          },
          "metadata": {}
        }
      ]
    },
    {
      "cell_type": "code",
      "source": [
        "fig = plt.figure(figsize=(14,6))\n",
        "plt.plot(np.arange(len(val_loss)),val_loss,label='val_loss')\n",
        "plt.plot(np.arange(len(loss)),loss,label='loss')\n",
        "plt.ylim(0.1,0.8)\n",
        "plt.xlabel('EPOCHS')\n",
        "plt.ylabel('LOSS')\n",
        "plt.title('Convergence Curve')\n",
        "plt.legend()\n",
        "plt.grid()\n",
        "sns.despine(left=True)\n",
        "plt.show()"
      ],
      "metadata": {
        "colab": {
          "base_uri": "https://localhost:8080/",
          "height": 410
        },
        "id": "8_ChDx79OHH0",
        "outputId": "b855e4fd-67e7-4f3a-a5dd-b5222bb99dc0"
      },
      "execution_count": null,
      "outputs": [
        {
          "output_type": "display_data",
          "data": {
            "text/plain": [
              "<Figure size 1008x432 with 1 Axes>"
            ],
            "image/png": "[encoded data removed]"
          },
          "metadata": {}
        }
      ]
    },
    {
      "cell_type": "code",
      "source": [
        "cloth_cats = ['T-shirt/Top', 'Trouser', 'Pullover', 'Dress', 'Coat',  \n",
        "                              'Sandal', 'Shirt', 'Sneaker', 'Bag', 'Boot'] \n",
        "                              \n",
        "pred = model.predict(test_images, batch_size=250)\n",
        "prd =[]\n",
        "for i in range(len(pred)):\n",
        "    prd.append(np.argmax(pred.round()[i]))\n",
        "con = pd.DataFrame(confusion_matrix(test_labels, prd), index=cloth_cats, columns=cloth_cats)\n",
        "\n",
        "\n",
        "#print('\\nConfusion Matrix Graph--->')\n",
        "fig = plt.figure(figsize=(14,10))\n",
        "g = sns.heatmap(con, annot=True, cmap='viridis', linewidths=1, cbar=False, fmt='.5g')\n",
        "g.set_yticklabels(g.get_yticklabels(), rotation=0)\n",
        "plt.show()\n"
      ],
      "metadata": {
        "colab": {
          "base_uri": "https://localhost:8080/",
          "height": 594
        },
        "id": "Ei4W4PyYi2Fb",
        "outputId": "625d0cc9-db05-44a1-cec2-153d98f06620"
      },
      "execution_count": null,
      "outputs": [
        {
          "output_type": "display_data",
          "data": {
            "text/plain": [
              "<Figure size 1008x720 with 1 Axes>"
            ],
            "image/png": "[encoded data removed]"
          },
          "metadata": {}
        }
      ]
    },
    {
      "cell_type": "markdown",
      "source": [
        "###Modifying hyperparameters (scikeras)"
      ],
      "metadata": {
        "id": "BQtsWsqIxeZl"
      }
    },
    {
      "cell_type": "code",
      "source": [
        "# Create function returning a compiled network\n",
        "def lenet5_network(activation='relu',\n",
        "                   kernel_initializer='he_uniform',\n",
        "                   kernel_size = (5,5),\n",
        "                   optimizer = 'Adam',\n",
        "                   lr = 0.001\n",
        "                   ):\n",
        "  model = Sequential()\n",
        "  model.add(Conv2D(6, kernel_size ,padding='same', activation = activation, kernel_initializer=kernel_initializer, input_shape=(training_images[0].shape)))\n",
        "  model.add(MaxPooling2D(pool_size=(2, 2))) \n",
        "\n",
        "  model.add(Conv2D(32, kernel_size , kernel_initializer=kernel_initializer, activation = activation))\n",
        "  model.add(Dropout(0.5))\n",
        "  model.add(MaxPooling2D(pool_size=(2, 2))) \n",
        "\n",
        "  model.add(Conv2D(120, kernel_size , kernel_initializer=kernel_initializer, activation = activation))\n",
        "  model.add(Flatten())\n",
        "  model.add(Dense(84, activation = activation))\n",
        "\n",
        "  model.add(Dense(10, activation='softmax'))\n",
        "  \n",
        "  optimizers = {'Adagrad' : Adagrad(learning_rate= lr),\n",
        "                'Adadelta' : Adadelta(learning_rate= lr),\n",
        "                'RMSprop' : RMSprop(learning_rate= lr),\n",
        "                'Adam': Adam(learning_rate= lr)\n",
        "                }\n",
        "\n",
        "  model.compile(loss='categorical_crossentropy', optimizer= optimizers[optimizer], metrics=['accuracy'])\n",
        "\n",
        "  return model"
      ],
      "metadata": {
        "id": "2yAtVtfD38sr"
      },
      "execution_count": null,
      "outputs": []
    },
    {
      "cell_type": "code",
      "source": [
        "# Wrap Keras model so it can be used by scikit-learn\n",
        "from scikeras.wrappers import KerasClassifier\n",
        "clf_lenet = KerasClassifier(model = lenet5_network,\n",
        "                            epochs=40,\n",
        "                            batch_size=64,\n",
        "                            activation='relu',\n",
        "                            kernel_initializer='he_uniform',\n",
        "                            kernel_size = (5,5),\n",
        "                            optimizer = Adam(),\n",
        "                            verbose=1,\n",
        "                            callbacks=[tensorboard_callback,\n",
        "                                       tf.keras.callbacks.EarlyStopping(monitor='val_loss', patience=5 )]\n",
        "                            )\n",
        "clf_lenet"
      ],
      "metadata": {
        "colab": {
          "base_uri": "https://localhost:8080/"
        },
        "id": "BeobBWAn6mM2",
        "outputId": "49d3c6e0-81ba-473f-9abd-d1a2f02ed057"
      },
      "execution_count": null,
      "outputs": [
        {
          "output_type": "execute_result",
          "data": {
            "text/plain": [
              "KerasClassifier(\n",
              "\tmodel=<function lenet5_network at 0x7f9caea32950>\n",
              "\tbuild_fn=None\n",
              "\twarm_start=False\n",
              "\trandom_state=None\n",
              "\toptimizer=<keras.optimizer_v2.adam.Adam object at 0x7f9cb0ec3e50>\n",
              "\tloss=None\n",
              "\tmetrics=None\n",
              "\tbatch_size=64\n",
              "\tvalidation_batch_size=None\n",
              "\tverbose=1\n",
              "\tcallbacks=[<keras.callbacks.TensorBoard object at 0x7f9cb237da50>, <keras.callbacks.EarlyStopping object at 0x7f9cb0ec33d0>]\n",
              "\tvalidation_split=0.0\n",
              "\tshuffle=True\n",
              "\trun_eagerly=False\n",
              "\tepochs=40\n",
              "\tactivation=relu\n",
              "\tkernel_initializer=he_uniform\n",
              "\tkernel_size=(5, 5)\n",
              "\tclass_weight=None\n",
              ")"
            ]
          },
          "metadata": {},
          "execution_count": 68
        }
      ]
    },
    {
      "cell_type": "code",
      "source": [
        "activation = ['tanh' , 'relue']\n",
        "kernel_initializer = ['he_uniform','he_normal','glorot_normal','glorot_uniform']\n",
        "grid_params = dict(activation = activation,\n",
        "                   kernel_initializer = kernel_initializer)\n",
        "grid = GridSearchCV(clf_lenet, param_grid = grid_params, cv=5, verbose = 10, n_jobs = -1)"
      ],
      "metadata": {
        "id": "kf-fu3Mq6mLG"
      },
      "execution_count": null,
      "outputs": []
    },
    {
      "cell_type": "code",
      "source": [
        "grid_params"
      ],
      "metadata": {
        "colab": {
          "base_uri": "https://localhost:8080/"
        },
        "id": "NIlGccEpC26H",
        "outputId": "ce2f9708-bf6c-4b5d-e6ba-2c9b9936a130"
      },
      "execution_count": null,
      "outputs": [
        {
          "output_type": "execute_result",
          "data": {
            "text/plain": [
              "{'activation': ['tanh', 'relue'],\n",
              " 'kernel_initializer': ['he_uniform',\n",
              "  'he_normal',\n",
              "  'glorot_normal',\n",
              "  'glorot_uniform']}"
            ]
          },
          "metadata": {},
          "execution_count": 70
        }
      ]
    },
    {
      "cell_type": "code",
      "source": [
        "grid.estimator.get_params().keys()"
      ],
      "metadata": {
        "colab": {
          "base_uri": "https://localhost:8080/"
        },
        "id": "axSiK9KPBSUs",
        "outputId": "81f3ec81-01f4-4cfe-bc36-bbe7457d337d"
      },
      "execution_count": null,
      "outputs": [
        {
          "output_type": "execute_result",
          "data": {
            "text/plain": [
              "dict_keys(['model', 'build_fn', 'warm_start', 'random_state', 'optimizer', 'loss', 'metrics', 'batch_size', 'validation_batch_size', 'verbose', 'callbacks', 'validation_split', 'shuffle', 'run_eagerly', 'epochs', 'activation', 'kernel_initializer', 'kernel_size', 'class_weight'])"
            ]
          },
          "metadata": {},
          "execution_count": 71
        }
      ]
    },
    {
      "cell_type": "code",
      "source": [
        "grid_result = grid.fit(training_images, training_labels_encoded)"
      ],
      "metadata": {
        "colab": {
          "base_uri": "https://localhost:8080/"
        },
        "id": "rJuyM2xu6mJH",
        "outputId": "215dd114-9384-4b31-fdf7-039ee485abf3"
      },
      "execution_count": null,
      "outputs": [
        {
          "output_type": "stream",
          "name": "stdout",
          "text": [
            "Fitting 5 folds for each of 8 candidates, totalling 40 fits\n"
          ]
        }
      ]
    },
    {
      "cell_type": "code",
      "source": [],
      "metadata": {
        "id": "5m6NttIX6mHT"
      },
      "execution_count": null,
      "outputs": []
    },
    {
      "cell_type": "code",
      "source": [],
      "metadata": {
        "id": "7GG__oWA6mEW"
      },
      "execution_count": null,
      "outputs": []
    },
    {
      "cell_type": "code",
      "source": [],
      "metadata": {
        "id": "5zr3n9h06mBb"
      },
      "execution_count": null,
      "outputs": []
    },
    {
      "cell_type": "code",
      "source": [],
      "metadata": {
        "id": "kGzTRLTr6l7t"
      },
      "execution_count": null,
      "outputs": []
    },
    {
      "cell_type": "markdown",
      "source": [
        "###Modifying hyperparameters (keras tuner)\n",
        "First we define the model used for tunning\n",
        "\n",
        "we will tune the following hyperparameters:\n",
        "* activation function\n",
        "* weight initialization\n",
        "* kernel size\n",
        "* number of filters per layer\n",
        "* optimizer\n",
        "* learning rate\n",
        "* dropout\n",
        "* batch normalization\n",
        "\n",
        "keras-tuner will be used.\n",
        "\n",
        "the tuning operation will go as follows:\n",
        "1. define the build function for tuner which contains the different values for the hyperparameter to be tuned.\n",
        "2. build the tuner\n",
        "3. start the search\n",
        "4. show results (summary) which will be ordered by the validation accuracy.\n",
        "5. upload logs to tensorboard"
      ],
      "metadata": {
        "id": "a0iohpYj08CG"
      }
    },
    {
      "cell_type": "code",
      "source": [
        "!pip install -q -U keras-tuner"
      ],
      "metadata": {
        "id": "N3Uqd9QTHQdD",
        "colab": {
          "base_uri": "https://localhost:8080/"
        },
        "outputId": "d98cb3eb-00fd-487a-fbe1-b0fe6c865a64"
      },
      "execution_count": null,
      "outputs": [
        {
          "output_type": "stream",
          "name": "stdout",
          "text": [
            "\u001b[?25l\r\u001b[K     |██▌                             | 10 kB 21.3 MB/s eta 0:00:01\r\u001b[K     |█████                           | 20 kB 12.3 MB/s eta 0:00:01\r\u001b[K     |███████▍                        | 30 kB 9.7 MB/s eta 0:00:01\r\u001b[K     |█████████▉                      | 40 kB 8.9 MB/s eta 0:00:01\r\u001b[K     |████████████▎                   | 51 kB 4.5 MB/s eta 0:00:01\r\u001b[K     |██████████████▊                 | 61 kB 5.3 MB/s eta 0:00:01\r\u001b[K     |█████████████████▏              | 71 kB 5.7 MB/s eta 0:00:01\r\u001b[K     |███████████████████▋            | 81 kB 5.8 MB/s eta 0:00:01\r\u001b[K     |██████████████████████          | 92 kB 6.5 MB/s eta 0:00:01\r\u001b[K     |████████████████████████▌       | 102 kB 5.4 MB/s eta 0:00:01\r\u001b[K     |███████████████████████████     | 112 kB 5.4 MB/s eta 0:00:01\r\u001b[K     |█████████████████████████████▍  | 122 kB 5.4 MB/s eta 0:00:01\r\u001b[K     |███████████████████████████████▉| 133 kB 5.4 MB/s eta 0:00:01\r\u001b[K     |████████████████████████████████| 133 kB 5.4 MB/s \n",
            "\u001b[?25h"
          ]
        }
      ]
    },
    {
      "cell_type": "code",
      "source": [
        "from keras.layers import LeakyReLU\n",
        "import keras_tuner as kt"
      ],
      "metadata": {
        "id": "iboHx9V6QULY"
      },
      "execution_count": null,
      "outputs": []
    },
    {
      "cell_type": "code",
      "source": [
        "# Create function returning a compiled network\n",
        "def lenet5_for_kera_tuner(activation='relu',\n",
        "                   kernel_initializer='he_uniform',\n",
        "                   kernel_size = (5,5),\n",
        "                   conv1_filters = 6,\n",
        "                   conv2_filters = 32,\n",
        "                   conv3_filters = 120,\n",
        "                   optimizer = 'Adam',\n",
        "                   lr = 0.001,\n",
        "                   drop_out = False,\n",
        "                   drop_out_rate = 0.2,\n",
        "                   batch_norm = False\n",
        "                   ):\n",
        "  \n",
        "  if activation == 'LeakyReLU':\n",
        "    activation = LeakyReLU(alpha = 0.1)\n",
        "\n",
        "  model = Sequential()\n",
        "  model.add(Conv2D(conv1_filters, kernel_size ,padding='same', activation = activation, kernel_initializer=kernel_initializer, input_shape=(training_images[0].shape)))\n",
        "  if drop_out:\n",
        "    model.add(SpatialDropout2D(drop_out_rate))\n",
        "  model.add(MaxPooling2D(pool_size=(2, 2)))\n",
        "\n",
        "  if batch_norm:\n",
        "    model.add(BatchNormalization())\n",
        "  model.add(Conv2D(conv2_filters, kernel_size , kernel_initializer=kernel_initializer, activation = activation))\n",
        "  if drop_out:\n",
        "    model.add(SpatialDropout2D(drop_out_rate))\n",
        "  model.add(MaxPooling2D(pool_size=(2, 2)))\n",
        "  \n",
        "  if batch_norm:\n",
        "    model.add(BatchNormalization())\n",
        "  model.add(Conv2D(conv3_filters, kernel_size , kernel_initializer=kernel_initializer, activation = activation))\n",
        "  if drop_out:\n",
        "    model.add(SpatialDropout2D(drop_out_rate))\n",
        "  model.add(Flatten())\n",
        "  \n",
        "  if batch_norm:\n",
        "    model.add(BatchNormalization())\n",
        "  model.add(Dense(84, activation = activation))\n",
        "  if batch_norm:\n",
        "    model.add(BatchNormalization())\n",
        "  model.add(Dense(10, activation='softmax'))\n",
        "\n",
        "  optimizers = {'Adagrad' : Adagrad(learning_rate= lr),\n",
        "                'Adadelta' : Adadelta(learning_rate= lr),\n",
        "                'RMSprop' : RMSprop(learning_rate= lr),\n",
        "                'Adam': Adam(learning_rate= lr)\n",
        "                }\n",
        "\n",
        "  model.compile(loss='categorical_crossentropy', optimizer= optimizers[optimizer], metrics=['accuracy'])\n",
        "\n",
        "  return model"
      ],
      "metadata": {
        "id": "wFbJ5oUO0_7m"
      },
      "execution_count": null,
      "outputs": []
    },
    {
      "cell_type": "markdown",
      "source": [
        "#### Activation and weight initialization"
      ],
      "metadata": {
        "id": "IVtfqwh1chF9"
      }
    },
    {
      "cell_type": "code",
      "source": [
        "rm -rf ./logs/ # remove previous log after each run"
      ],
      "metadata": {
        "id": "-5lLVIwv0__6"
      },
      "execution_count": null,
      "outputs": []
    },
    {
      "cell_type": "code",
      "source": [
        "log_dir = \"logs/fit/\" + datetime.datetime.now().strftime(\"%Y%m%d-%H%M%S\")\n",
        "tensorboard_callback = tf.keras.callbacks.TensorBoard(log_dir=log_dir, histogram_freq=1)"
      ],
      "metadata": {
        "id": "ugM8uOhx0_-C"
      },
      "execution_count": null,
      "outputs": []
    },
    {
      "cell_type": "code",
      "source": [
        "def build_model_activation_initalizer(hp):\n",
        "  activation = hp.Choice(\"activation\", [\"relu\", \"tanh\", 'LeakyReLU'])\n",
        "  kernel_initializer = hp.Choice(\"kernel_initializer\",['he_uniform','he_normal','glorot_normal','glorot_uniform'])\n",
        "  model = lenet5_for_kera_tuner(activation = activation, kernel_initializer = kernel_initializer)\n",
        "  return model\n",
        "\n",
        "build_model_activation_initalizer(kt.HyperParameters())"
      ],
      "metadata": {
        "colab": {
          "base_uri": "https://localhost:8080/"
        },
        "id": "TcOQOzdl0_5m",
        "outputId": "1f7e3843-50ff-4eb6-993b-0c91b24e1096"
      },
      "execution_count": null,
      "outputs": [
        {
          "output_type": "execute_result",
          "data": {
            "text/plain": [
              "<keras.engine.sequential.Sequential at 0x7f5214d7f190>"
            ]
          },
          "metadata": {},
          "execution_count": 119
        }
      ]
    },
    {
      "cell_type": "code",
      "source": [
        "tuner = kt.RandomSearch(\n",
        "    hypermodel=build_model_activation_initalizer,\n",
        "    objective=\"val_accuracy\",\n",
        "    max_trials=100,\n",
        "    executions_per_trial=1,\n",
        "    overwrite=True,\n",
        "    directory=\"my_dir\",\n",
        "    project_name=\"helloworld\",\n",
        ")"
      ],
      "metadata": {
        "id": "KMWxYGeJ3Hol"
      },
      "execution_count": null,
      "outputs": []
    },
    {
      "cell_type": "code",
      "source": [
        "tuner.search_space_summary()"
      ],
      "metadata": {
        "colab": {
          "base_uri": "https://localhost:8080/"
        },
        "id": "44a5mglc5HAr",
        "outputId": "2cf01eff-cbf1-4e48-b5ce-bc3eff1d74a9"
      },
      "execution_count": null,
      "outputs": [
        {
          "output_type": "stream",
          "name": "stdout",
          "text": [
            "Search space summary\n",
            "Default search space size: 2\n",
            "activation (Choice)\n",
            "{'default': 'relu', 'conditions': [], 'values': ['relu', 'tanh', 'LeakyReLU'], 'ordered': False}\n",
            "kernel_initializer (Choice)\n",
            "{'default': 'he_uniform', 'conditions': [], 'values': ['he_uniform', 'he_normal', 'glorot_normal', 'glorot_uniform'], 'ordered': False}\n"
          ]
        }
      ]
    },
    {
      "cell_type": "code",
      "source": [
        "tuner.search(\n",
        "    training_images,\n",
        "    training_labels_encoded,\n",
        "    validation_split=0.2,\n",
        "    epochs=40,\n",
        "    callbacks=[tf.keras.callbacks.EarlyStopping(monitor='val_loss', patience=5, restore_best_weights=True),\n",
        "               tensorboard_callback],\n",
        ")"
      ],
      "metadata": {
        "colab": {
          "base_uri": "https://localhost:8080/"
        },
        "id": "q6N7nF5v4g8B",
        "outputId": "b116b1e0-256c-49b7-a0ec-e1da6f2d5246"
      },
      "execution_count": null,
      "outputs": [
        {
          "output_type": "stream",
          "name": "stdout",
          "text": [
            "Trial 12 Complete [00h 01m 56s]\n",
            "val_accuracy: 0.8686666488647461\n",
            "\n",
            "Best val_accuracy So Far: 0.9157500267028809\n",
            "Total elapsed time: 00h 33m 52s\n",
            "INFO:tensorflow:Oracle triggered exit\n"
          ]
        }
      ]
    },
    {
      "cell_type": "code",
      "source": [
        "tuner.results_summary(12)"
      ],
      "metadata": {
        "colab": {
          "base_uri": "https://localhost:8080/"
        },
        "id": "D0Ekwvxr5dHX",
        "outputId": "aedfb305-123f-417b-e934-797e9fff6f2d"
      },
      "execution_count": null,
      "outputs": [
        {
          "output_type": "stream",
          "name": "stdout",
          "text": [
            "Results summary\n",
            "Results in my_dir/helloworld\n",
            "Showing 12 best trials\n",
            "<keras_tuner.engine.objective.Objective object at 0x7f52138c2610>\n",
            "Trial summary\n",
            "Hyperparameters:\n",
            "activation: relu\n",
            "kernel_initializer: glorot_uniform\n",
            "Score: 0.9157500267028809\n",
            "Trial summary\n",
            "Hyperparameters:\n",
            "activation: relu\n",
            "kernel_initializer: glorot_normal\n",
            "Score: 0.9154166579246521\n",
            "Trial summary\n",
            "Hyperparameters:\n",
            "activation: relu\n",
            "kernel_initializer: he_uniform\n",
            "Score: 0.9130833148956299\n",
            "Trial summary\n",
            "Hyperparameters:\n",
            "activation: relu\n",
            "kernel_initializer: he_normal\n",
            "Score: 0.9122499823570251\n",
            "Trial summary\n",
            "Hyperparameters:\n",
            "activation: LeakyReLU\n",
            "kernel_initializer: glorot_normal\n",
            "Score: 0.9118333458900452\n",
            "Trial summary\n",
            "Hyperparameters:\n",
            "activation: LeakyReLU\n",
            "kernel_initializer: glorot_uniform\n",
            "Score: 0.9114999771118164\n",
            "Trial summary\n",
            "Hyperparameters:\n",
            "activation: LeakyReLU\n",
            "kernel_initializer: he_uniform\n",
            "Score: 0.9078333377838135\n",
            "Trial summary\n",
            "Hyperparameters:\n",
            "activation: LeakyReLU\n",
            "kernel_initializer: he_normal\n",
            "Score: 0.902999997138977\n",
            "Trial summary\n",
            "Hyperparameters:\n",
            "activation: tanh\n",
            "kernel_initializer: glorot_normal\n",
            "Score: 0.8784999847412109\n",
            "Trial summary\n",
            "Hyperparameters:\n",
            "activation: tanh\n",
            "kernel_initializer: he_uniform\n",
            "Score: 0.8686666488647461\n",
            "Trial summary\n",
            "Hyperparameters:\n",
            "activation: tanh\n",
            "kernel_initializer: he_normal\n",
            "Score: 0.8669999837875366\n",
            "Trial summary\n",
            "Hyperparameters:\n",
            "activation: tanh\n",
            "kernel_initializer: glorot_uniform\n",
            "Score: 0.8636666536331177\n"
          ]
        }
      ]
    },
    {
      "cell_type": "code",
      "source": [
        "# !rm -rf 'logs/fit/20220405-034746/07'"
      ],
      "metadata": {
        "id": "i6XuTRzSbH5S"
      },
      "execution_count": null,
      "outputs": []
    },
    {
      "cell_type": "code",
      "source": [
        "%load_ext tensorboard\n",
        "%tensorboard --logdir logs/fit/"
      ],
      "metadata": {
        "id": "3ddLcHyhAFEE"
      },
      "execution_count": null,
      "outputs": []
    },
    {
      "cell_type": "code",
      "source": [
        "!tensorboard dev upload \\\n",
        "  --logdir logs/fit \\\n",
        "  --name \"activation and weight initialization\" \\\n",
        "  --description 'choosing form: \\\n",
        "\"activation\": [\"relu\", \"tanh\", \"LeakyReLU\"] \\\n",
        "\"kernel_initializer\" : [\"he_uniform\",\"he_normal\",\"glorot_normal\",\"glorot_uniform\"] \\\n",
        "the best is activation: relu , kernel_initializer: glorot_uniform'\\\n",
        "  --one_shot"
      ],
      "metadata": {
        "colab": {
          "base_uri": "https://localhost:8080/"
        },
        "id": "Y6YyvWUjcw0Y",
        "outputId": "e86f5f17-800a-42f1-9d16-5da4ab63de1a"
      },
      "execution_count": null,
      "outputs": [
        {
          "output_type": "stream",
          "name": "stdout",
          "text": [
            "\n",
            "New experiment created. View your TensorBoard at: https://tensorboard.dev/experiment/eTQt6aO0QEmwbSak2WHreA/\n",
            "\n",
            "\u001b[1m[2022-04-05T06:49:23]\u001b[0m Started scanning logdir.\n",
            "\u001b[1m[2022-04-05T06:49:35]\u001b[0m Total uploaded: 1158 scalars, 1954 tensors (1.4 MB), 12 binary objects (627.3 kB)\n",
            "\u001b[1m[2022-04-05T06:49:35]\u001b[0m Done scanning logdir.\n",
            "\n",
            "\n",
            "Done. View your TensorBoard at https://tensorboard.dev/experiment/eTQt6aO0QEmwbSak2WHreA/\n"
          ]
        }
      ]
    },
    {
      "cell_type": "code",
      "source": [
        "!tensorboard dev list"
      ],
      "metadata": {
        "colab": {
          "base_uri": "https://localhost:8080/"
        },
        "id": "uVa2s2Tdfjci",
        "outputId": "14aaa408-0845-4a75-c07f-fdd80e18ce3e"
      },
      "execution_count": null,
      "outputs": [
        {
          "output_type": "stream",
          "name": "stdout",
          "text": [
            "https://tensorboard.dev/experiment/eTQt6aO0QEmwbSak2WHreA/\n",
            "\tName                 activation and weight initialization\n",
            "\tDescription          choosing form: \"activation\": [\"relu\", \"tanh\", \"LeakyReLU\"] \"kernel_initializer\" : [\"he_uniform\",\"he_normal\",\"glorot_normal\",\"glorot_uniform\"] the best is activation: relu , kernel_initializer: glorot_uniform\n",
            "\tId                   eTQt6aO0QEmwbSak2WHreA\n",
            "\tCreated              2022-04-05 06:49:23 (5 minutes ago)\n",
            "\tUpdated              2022-04-05 06:49:35 (5 minutes ago)\n",
            "\tRuns                 36\n",
            "\tTags                 17\n",
            "\tScalars              1158\n",
            "\tTensor bytes         1575014\n",
            "\tBinary object bytes  644364\n",
            "Total: 1 experiment(s)\n"
          ]
        }
      ]
    },
    {
      "cell_type": "code",
      "source": [
        "# !tensorboard dev delete --experiment_id YOUR_EXPERIMENT_ID_HERE"
      ],
      "metadata": {
        "id": "0HU-7CgzgDAU"
      },
      "execution_count": null,
      "outputs": []
    },
    {
      "cell_type": "markdown",
      "source": [
        "#### kernel size"
      ],
      "metadata": {
        "id": "LdE47_43g9kM"
      }
    },
    {
      "cell_type": "code",
      "source": [
        "rm -rf ./logs/ # remove previous log after each run"
      ],
      "metadata": {
        "id": "sn_iO9gijrI8"
      },
      "execution_count": null,
      "outputs": []
    },
    {
      "cell_type": "code",
      "source": [
        "log_dir = \"logs/fit/\" + datetime.datetime.now().strftime(\"%Y%m%d-%H%M%S\")\n",
        "tensorboard_callback = tf.keras.callbacks.TensorBoard(log_dir=log_dir, histogram_freq=1)"
      ],
      "metadata": {
        "id": "D5OW61gQjrJB"
      },
      "execution_count": null,
      "outputs": []
    },
    {
      "cell_type": "code",
      "source": [
        "def build_model_kernelSize(hp):\n",
        "  kernel_size = hp.Choice(\"kernel_size\", [3, 5])\n",
        "  model = lenet5_for_kera_tuner(activation = 'relu',\n",
        "                                kernel_initializer = 'glorot_uniform',\n",
        "                                kernel_size = kernel_size)\n",
        "  return model\n",
        "\n",
        "build_model_kernelSize(kt.HyperParameters())"
      ],
      "metadata": {
        "colab": {
          "base_uri": "https://localhost:8080/"
        },
        "id": "HfVO0xtlhWq2",
        "outputId": "3e64fd5a-1904-40b8-c715-c12817dd4387"
      },
      "execution_count": null,
      "outputs": [
        {
          "output_type": "execute_result",
          "data": {
            "text/plain": [
              "<keras.engine.sequential.Sequential at 0x7f5214c2b510>"
            ]
          },
          "metadata": {},
          "execution_count": 132
        }
      ]
    },
    {
      "cell_type": "code",
      "source": [
        "tuner = kt.RandomSearch(\n",
        "    hypermodel=build_model_kernelSize,\n",
        "    objective=\"val_accuracy\",\n",
        "    max_trials=100,\n",
        "    executions_per_trial=1,\n",
        "    overwrite=True,\n",
        "    directory=\"my_dir\",\n",
        "    project_name=\"kernel_size\",\n",
        ")"
      ],
      "metadata": {
        "id": "JdDIaHq8hWoh"
      },
      "execution_count": null,
      "outputs": []
    },
    {
      "cell_type": "code",
      "source": [
        "tuner.search(\n",
        "    training_images,\n",
        "    training_labels_encoded,\n",
        "    validation_split=0.2,\n",
        "    epochs=40,\n",
        "    callbacks=[tf.keras.callbacks.EarlyStopping(monitor='val_loss', patience=5, restore_best_weights=True),\n",
        "               tensorboard_callback],\n",
        ")"
      ],
      "metadata": {
        "colab": {
          "base_uri": "https://localhost:8080/"
        },
        "id": "CIQ0Z2gvhWih",
        "outputId": "5d34a2be-06e2-47b5-981c-a3f7ffda0aa8"
      },
      "execution_count": null,
      "outputs": [
        {
          "output_type": "stream",
          "name": "stdout",
          "text": [
            "Trial 2 Complete [00h 04m 21s]\n",
            "val_accuracy: 0.9127500057220459\n",
            "\n",
            "Best val_accuracy So Far: 0.9181666374206543\n",
            "Total elapsed time: 00h 08m 05s\n",
            "INFO:tensorflow:Oracle triggered exit\n"
          ]
        }
      ]
    },
    {
      "cell_type": "code",
      "source": [
        "tuner.results_summary()"
      ],
      "metadata": {
        "colab": {
          "base_uri": "https://localhost:8080/"
        },
        "id": "FDCEiRj-j1ei",
        "outputId": "45d23dab-a9a5-48db-c52b-f57c01fcaffa"
      },
      "execution_count": null,
      "outputs": [
        {
          "output_type": "stream",
          "name": "stdout",
          "text": [
            "Results summary\n",
            "Results in my_dir/kernel_size\n",
            "Showing 10 best trials\n",
            "<keras_tuner.engine.objective.Objective object at 0x7f5214c2b290>\n",
            "Trial summary\n",
            "Hyperparameters:\n",
            "kernel_size: 5\n",
            "Score: 0.9181666374206543\n",
            "Trial summary\n",
            "Hyperparameters:\n",
            "kernel_size: 3\n",
            "Score: 0.9127500057220459\n"
          ]
        }
      ]
    },
    {
      "cell_type": "code",
      "source": [
        "!tensorboard dev upload \\\n",
        "  --logdir logs/fit \\\n",
        "  --name \"kernel_size\" \\\n",
        "  --description 'the best is kernel_size: 5'\\\n",
        "  --one_shot"
      ],
      "metadata": {
        "colab": {
          "base_uri": "https://localhost:8080/"
        },
        "id": "H1ACgCehj1cT",
        "outputId": "0defeda6-5c97-42f3-b82d-8e9f4f0abbab"
      },
      "execution_count": null,
      "outputs": [
        {
          "output_type": "stream",
          "name": "stdout",
          "text": [
            "\n",
            "New experiment created. View your TensorBoard at: https://tensorboard.dev/experiment/WDGVyUmfQGWGROPZu3niDQ/\n",
            "\n",
            "\u001b[1m[2022-04-05T07:27:16]\u001b[0m Started scanning logdir.\n",
            "\u001b[1m[2022-04-05T07:27:17]\u001b[0m Total uploaded: 276 scalars, 464 tensors (330.2 kB), 2 binary objects (104.1 kB)\n",
            "\u001b[1m[2022-04-05T07:27:17]\u001b[0m Done scanning logdir.\n",
            "\n",
            "\n",
            "Done. View your TensorBoard at https://tensorboard.dev/experiment/WDGVyUmfQGWGROPZu3niDQ/\n"
          ]
        }
      ]
    },
    {
      "cell_type": "markdown",
      "source": [
        "#### batch size"
      ],
      "metadata": {
        "id": "27qf8UGtnMU-"
      }
    },
    {
      "cell_type": "code",
      "source": [
        "!rm -rf ./logs/ # remove previous log after each run"
      ],
      "metadata": {
        "id": "xU8amQ0unMU_"
      },
      "execution_count": null,
      "outputs": []
    },
    {
      "cell_type": "code",
      "source": [
        "log_dir = \"logs/fit/\" + datetime.datetime.now().strftime(\"%Y%m%d-%H%M%S\")\n",
        "tensorboard_callback = tf.keras.callbacks.TensorBoard(log_dir=log_dir, histogram_freq=1)"
      ],
      "metadata": {
        "id": "_bQyU_hMnMU_"
      },
      "execution_count": null,
      "outputs": []
    },
    {
      "cell_type": "code",
      "source": [
        "def build_model_batchSize(hp):\n",
        "  # kernel_size = hp.Choice(\"kernel_size\", [3, 5])\n",
        "  model = lenet5_for_kera_tuner(activation = 'relu',\n",
        "                                kernel_initializer = 'glorot_uniform',\n",
        "                                kernel_size = 5)\n",
        "  return model\n",
        "\n",
        "build_model_batchSize(kt.HyperParameters())"
      ],
      "metadata": {
        "outputId": "f6b250d9-5be0-4194-a997-d59edab81c38",
        "colab": {
          "base_uri": "https://localhost:8080/"
        },
        "id": "WjwvvtX-nMU_"
      },
      "execution_count": null,
      "outputs": [
        {
          "output_type": "execute_result",
          "data": {
            "text/plain": [
              "<keras.engine.sequential.Sequential at 0x7f8eb74b4dd0>"
            ]
          },
          "metadata": {},
          "execution_count": 29
        }
      ]
    },
    {
      "cell_type": "code",
      "source": [
        "class MyTuner(kt.RandomSearch):\n",
        "  def run_trial(self, trial, *args, **kwargs):\n",
        "    # You can add additional HyperParameters for preprocessing and custom training loops\n",
        "    # via overriding `run_trial`\n",
        "    kwargs['batch_size'] = trial.hyperparameters.Int('batch_size', 64, 256, step=32)\n",
        "    # kwargs['epochs'] = trial.hyperparameters.Int('epochs', 10, 30)\n",
        "    return super(MyTuner, self).run_trial(trial, *args, **kwargs)"
      ],
      "metadata": {
        "id": "czAREN56yecZ"
      },
      "execution_count": null,
      "outputs": []
    },
    {
      "cell_type": "code",
      "source": [
        "tuner = MyTuner(\n",
        "    hypermodel=build_model_batchSize,\n",
        "    objective=\"val_accuracy\",\n",
        "    max_trials=100,\n",
        "    executions_per_trial=1,\n",
        "    overwrite=True,\n",
        "    directory=\"my_dir\",\n",
        "    project_name=\"batch_size\",\n",
        ")"
      ],
      "metadata": {
        "id": "Xfpn2lzgnMU_"
      },
      "execution_count": null,
      "outputs": []
    },
    {
      "cell_type": "code",
      "source": [
        "tuner.search(\n",
        "    training_images,\n",
        "    training_labels_encoded,\n",
        "    validation_split=0.2,\n",
        "    # batch_size = hp.Choice(\"batch_size\", [16, 32, 64, 128, 256]),\n",
        "    epochs=40,\n",
        "    callbacks=[tf.keras.callbacks.EarlyStopping(monitor='val_loss', patience=5, restore_best_weights=True),\n",
        "               tensorboard_callback],\n",
        ")"
      ],
      "metadata": {
        "outputId": "9c512707-320d-428e-9562-7511dac294af",
        "colab": {
          "base_uri": "https://localhost:8080/"
        },
        "id": "RY5mQhi4nMU_"
      },
      "execution_count": null,
      "outputs": [
        {
          "output_type": "stream",
          "name": "stdout",
          "text": [
            "Trial 8 Complete [00h 16m 24s]\n",
            "val_accuracy: 0.9164999723434448\n",
            "\n",
            "Best val_accuracy So Far: 0.918666660785675\n",
            "Total elapsed time: 02h 00m 42s\n",
            "INFO:tensorflow:Oracle triggered exit\n"
          ]
        }
      ]
    },
    {
      "cell_type": "code",
      "source": [
        "tuner.results_summary()"
      ],
      "metadata": {
        "outputId": "b4db63b5-92d9-4ecc-ff8a-d9108148d9b5",
        "colab": {
          "base_uri": "https://localhost:8080/"
        },
        "id": "zL0gXnHEnMU_"
      },
      "execution_count": null,
      "outputs": [
        {
          "output_type": "stream",
          "name": "stdout",
          "text": [
            "Results summary\n",
            "Results in my_dir/batch_size\n",
            "Showing 10 best trials\n",
            "<keras_tuner.engine.objective.Objective object at 0x7f8eb208e550>\n",
            "Trial summary\n",
            "Hyperparameters:\n",
            "batch_size: 160\n",
            "Score: 0.918666660785675\n",
            "Trial summary\n",
            "Hyperparameters:\n",
            "batch_size: 64\n",
            "Score: 0.9179166555404663\n",
            "Trial summary\n",
            "Hyperparameters:\n",
            "batch_size: 64\n",
            "Score: 0.9167500138282776\n",
            "Trial summary\n",
            "Hyperparameters:\n",
            "batch_size: 96\n",
            "Score: 0.9167500138282776\n",
            "Trial summary\n",
            "Hyperparameters:\n",
            "batch_size: 128\n",
            "Score: 0.9167500138282776\n",
            "Trial summary\n",
            "Hyperparameters:\n",
            "batch_size: 224\n",
            "Score: 0.9166666865348816\n",
            "Trial summary\n",
            "Hyperparameters:\n",
            "batch_size: 256\n",
            "Score: 0.9164999723434448\n",
            "Trial summary\n",
            "Hyperparameters:\n",
            "batch_size: 192\n",
            "Score: 0.9164166450500488\n"
          ]
        }
      ]
    },
    {
      "cell_type": "code",
      "source": [
        "!tensorboard dev upload \\\n",
        "  --logdir logs/fit \\\n",
        "  --name \"batch_size\" \\\n",
        "  --description ''\\\n",
        "  --one_shot"
      ],
      "metadata": {
        "id": "wKpEq5IQnMU_",
        "colab": {
          "base_uri": "https://localhost:8080/"
        },
        "outputId": "7a29ec83-5a0a-431e-b622-1de6b126bc2c"
      },
      "execution_count": null,
      "outputs": [
        {
          "output_type": "stream",
          "name": "stdout",
          "text": [
            "2022-04-06 00:48:38.309976: E tensorflow/stream_executor/cuda/cuda_driver.cc:271] failed call to cuInit: CUDA_ERROR_NO_DEVICE: no CUDA-capable device is detected\n",
            "\n",
            "***** TensorBoard Uploader *****\n",
            "\n",
            "This will upload your TensorBoard logs to https://tensorboard.dev/ from\n",
            "the following directory:\n",
            "\n",
            "logs/fit\n",
            "\n",
            "This TensorBoard will be visible to everyone. Do not upload sensitive\n",
            "data.\n",
            "\n",
            "Your use of this service is subject to Google's Terms of Service\n",
            "<https://policies.google.com/terms> and Privacy Policy\n",
            "<https://policies.google.com/privacy>, and TensorBoard.dev's Terms of Service\n",
            "<https://tensorboard.dev/policy/terms/>.\n",
            "\n",
            "This notice will not be shown again while you are logged into the uploader.\n",
            "To log out, run `tensorboard dev auth revoke`.\n",
            "\n",
            "Continue? (yes/NO) yes\n",
            "\n",
            "Please visit this URL to authorize this application: https://accounts.google.com/o/oauth2/auth?response_type=code&client_id=373649185512-8v619h5kft38l4456nm2dj4ubeqsrvh6.apps.googleusercontent.com&redirect_uri=urn%3Aietf%3Awg%3Aoauth%3A2.0%3Aoob&scope=openid+https%3A%2F%2Fwww.googleapis.com%2Fauth%2Fuserinfo.email&state=jjnyO6a22v0KVXBI0rahPuRrZijj5R&prompt=consent&access_type=offline\n",
            "Enter the authorization code: 4/1AX4XfWj8-CkgUKaj38QrkDG4W6xo2tDBVe6LbM-LK15YRpDX9FHwETyUVmw\n",
            "\n",
            "\n",
            "New experiment created. View your TensorBoard at: https://tensorboard.dev/experiment/9yvKH7TmRUGC7riAkwysAA/\n",
            "\n",
            "\u001b[1m[2022-04-06T00:49:10]\u001b[0m Started scanning logdir.\n",
            "E0406 00:49:11.922432 139816905176960 uploader.py:1122] Attempted to re-upload existing blob.  Skipping.\n",
            "E0406 00:49:12.921515 139816905176960 uploader.py:1122] Attempted to re-upload existing blob.  Skipping.\n",
            "\u001b[1m[2022-04-06T00:49:20]\u001b[0m Total uploaded: 1548 scalars, 2599 tensors (1.8 MB), 8 binary objects (419.4 kB)\n",
            "\u001b[90mTotal skipped: 2 binary objects (104.0 kB)\n",
            "\u001b[0m\u001b[1m[2022-04-06T00:49:20]\u001b[0m Done scanning logdir.\n",
            "\n",
            "\n",
            "Done. View your TensorBoard at https://tensorboard.dev/experiment/9yvKH7TmRUGC7riAkwysAA/\n"
          ]
        }
      ]
    },
    {
      "cell_type": "markdown",
      "source": [
        "#### number of filters"
      ],
      "metadata": {
        "id": "dXrEbZgK_kRO"
      }
    },
    {
      "cell_type": "code",
      "source": [
        "rm -rf ./logs/ # remove previous log after each run"
      ],
      "metadata": {
        "id": "N1E7RhUm_kRP"
      },
      "execution_count": null,
      "outputs": []
    },
    {
      "cell_type": "code",
      "source": [
        "log_dir = \"logs/fit/\" + datetime.datetime.now().strftime(\"%Y%m%d-%H%M%S\")\n",
        "tensorboard_callback = tf.keras.callbacks.TensorBoard(log_dir=log_dir, histogram_freq=1)"
      ],
      "metadata": {
        "id": "VUVbIMzN_kRP"
      },
      "execution_count": null,
      "outputs": []
    },
    {
      "cell_type": "code",
      "source": [
        "def build_model_filters(hp):\n",
        "  conv1_filters = 2 ** hp.Int('conv1_filters', min_value = 2, max_value = 8, step=1)\n",
        "  conv2_filters = 2 ** hp.Int('conv2_filters', min_value = 2, max_value = 8, step=1)\n",
        "  conv3_filters = 2 ** hp.Int('conv3_filters', min_value = 2, max_value = 8, step=1)\n",
        "  model = lenet5_for_kera_tuner(activation = 'relu',\n",
        "                                kernel_initializer = 'glorot_uniform',\n",
        "                                kernel_size = 5,\n",
        "                                conv1_filters = conv1_filters,\n",
        "                                conv2_filters = conv2_filters,\n",
        "                                conv3_filters = conv3_filters)\n",
        "  return model\n",
        "\n",
        "build_model_filters(kt.HyperParameters())"
      ],
      "metadata": {
        "colab": {
          "base_uri": "https://localhost:8080/"
        },
        "outputId": "49f360ae-4906-40aa-9b98-4ee0899cccf4",
        "id": "lYXZUOi4_kRP"
      },
      "execution_count": null,
      "outputs": [
        {
          "output_type": "execute_result",
          "data": {
            "text/plain": [
              "<keras.engine.sequential.Sequential at 0x7fa0fa30e150>"
            ]
          },
          "metadata": {},
          "execution_count": 39
        }
      ]
    },
    {
      "cell_type": "code",
      "source": [
        "tuner = kt.Hyperband(\n",
        "    hypermodel=build_model_filters,\n",
        "    objective=\"val_accuracy\",\n",
        "    max_epochs=100,\n",
        "    hyperband_iterations=1,\n",
        "    overwrite=True,\n",
        "    directory=\"my_dir\",\n",
        "    project_name=\"filters_number\",\n",
        ")"
      ],
      "metadata": {
        "id": "pA0_PHAH_kRQ"
      },
      "execution_count": null,
      "outputs": []
    },
    {
      "cell_type": "code",
      "source": [
        "tuner.search(\n",
        "    training_images,\n",
        "    training_labels_encoded,\n",
        "    validation_split=0.2,\n",
        "    epochs=40,\n",
        "    callbacks=[tf.keras.callbacks.EarlyStopping(monitor='val_loss', patience=5, restore_best_weights=True),\n",
        "               tensorboard_callback],\n",
        ")"
      ],
      "metadata": {
        "colab": {
          "base_uri": "https://localhost:8080/",
          "height": 730
        },
        "outputId": "b8ffd224-66a2-4492-840c-66b7d12b5263",
        "id": "f_lE7qNy_kRQ"
      },
      "execution_count": null,
      "outputs": [
        {
          "output_type": "stream",
          "name": "stdout",
          "text": [
            "Trial 161 Complete [00h 00m 41s]\n",
            "val_accuracy: 0.8886666893959045\n",
            "\n",
            "Best val_accuracy So Far: 0.9190000295639038\n",
            "Total elapsed time: 01h 11m 43s\n",
            "\n",
            "Search: Running Trial #162\n",
            "\n",
            "Value             |Best Value So Far |Hyperparameter\n",
            "8                 |7                 |conv1_filters\n",
            "3                 |7                 |conv2_filters\n",
            "7                 |5                 |conv3_filters\n",
            "4                 |100               |tuner/epochs\n",
            "0                 |34                |tuner/initial_epoch\n",
            "3                 |4                 |tuner/bracket\n",
            "0                 |4                 |tuner/round\n",
            "\n",
            "Epoch 1/4\n",
            "   1/1500 [..............................] - ETA: 11:47 - loss: 2.3021 - accuracy: 0.1250WARNING:tensorflow:Callback method `on_train_batch_end` is slow compared to the batch time (batch time: 0.0023s vs `on_train_batch_end` time: 0.0056s). Check your callbacks.\n",
            "1490/1500 [============================>.] - ETA: 0s - loss: 0.5318 - accuracy: 0.7978"
          ]
        },
        {
          "output_type": "error",
          "ename": "KeyboardInterrupt",
          "evalue": "ignored",
          "traceback": [
            "\u001b[0;31m---------------------------------------------------------------------------\u001b[0m",
            "\u001b[0;31mKeyboardInterrupt\u001b[0m                         Traceback (most recent call last)",
            "\u001b[0;32m<ipython-input-41-4e67aa1642d6>\u001b[0m in \u001b[0;36m<module>\u001b[0;34m()\u001b[0m\n\u001b[1;32m      5\u001b[0m     \u001b[0mepochs\u001b[0m\u001b[0;34m=\u001b[0m\u001b[0;36m40\u001b[0m\u001b[0;34m,\u001b[0m\u001b[0;34m\u001b[0m\u001b[0;34m\u001b[0m\u001b[0m\n\u001b[1;32m      6\u001b[0m     callbacks=[tf.keras.callbacks.EarlyStopping(monitor='val_loss', patience=5, restore_best_weights=True),\n\u001b[0;32m----> 7\u001b[0;31m                tensorboard_callback],\n\u001b[0m\u001b[1;32m      8\u001b[0m )\n",
            "\u001b[0;32m/usr/local/lib/python3.7/dist-packages/keras_tuner/engine/base_tuner.py\u001b[0m in \u001b[0;36msearch\u001b[0;34m(self, *fit_args, **fit_kwargs)\u001b[0m\n\u001b[1;32m    177\u001b[0m \u001b[0;34m\u001b[0m\u001b[0m\n\u001b[1;32m    178\u001b[0m             \u001b[0mself\u001b[0m\u001b[0;34m.\u001b[0m\u001b[0mon_trial_begin\u001b[0m\u001b[0;34m(\u001b[0m\u001b[0mtrial\u001b[0m\u001b[0;34m)\u001b[0m\u001b[0;34m\u001b[0m\u001b[0;34m\u001b[0m\u001b[0m\n\u001b[0;32m--> 179\u001b[0;31m             \u001b[0mresults\u001b[0m \u001b[0;34m=\u001b[0m \u001b[0mself\u001b[0m\u001b[0;34m.\u001b[0m\u001b[0mrun_trial\u001b[0m\u001b[0;34m(\u001b[0m\u001b[0mtrial\u001b[0m\u001b[0;34m,\u001b[0m \u001b[0;34m*\u001b[0m\u001b[0mfit_args\u001b[0m\u001b[0;34m,\u001b[0m \u001b[0;34m**\u001b[0m\u001b[0mfit_kwargs\u001b[0m\u001b[0;34m)\u001b[0m\u001b[0;34m\u001b[0m\u001b[0;34m\u001b[0m\u001b[0m\n\u001b[0m\u001b[1;32m    180\u001b[0m             \u001b[0;31m# `results` is None indicates user updated oracle in `run_trial()`.\u001b[0m\u001b[0;34m\u001b[0m\u001b[0;34m\u001b[0m\u001b[0;34m\u001b[0m\u001b[0m\n\u001b[1;32m    181\u001b[0m             \u001b[0;32mif\u001b[0m \u001b[0mresults\u001b[0m \u001b[0;32mis\u001b[0m \u001b[0;32mNone\u001b[0m\u001b[0;34m:\u001b[0m\u001b[0;34m\u001b[0m\u001b[0;34m\u001b[0m\u001b[0m\n",
            "\u001b[0;32m/usr/local/lib/python3.7/dist-packages/keras_tuner/tuners/hyperband.py\u001b[0m in \u001b[0;36mrun_trial\u001b[0;34m(self, trial, *fit_args, **fit_kwargs)\u001b[0m\n\u001b[1;32m    382\u001b[0m             \u001b[0mfit_kwargs\u001b[0m\u001b[0;34m[\u001b[0m\u001b[0;34m\"epochs\"\u001b[0m\u001b[0;34m]\u001b[0m \u001b[0;34m=\u001b[0m \u001b[0mhp\u001b[0m\u001b[0;34m.\u001b[0m\u001b[0mvalues\u001b[0m\u001b[0;34m[\u001b[0m\u001b[0;34m\"tuner/epochs\"\u001b[0m\u001b[0;34m]\u001b[0m\u001b[0;34m\u001b[0m\u001b[0;34m\u001b[0m\u001b[0m\n\u001b[1;32m    383\u001b[0m             \u001b[0mfit_kwargs\u001b[0m\u001b[0;34m[\u001b[0m\u001b[0;34m\"initial_epoch\"\u001b[0m\u001b[0;34m]\u001b[0m \u001b[0;34m=\u001b[0m \u001b[0mhp\u001b[0m\u001b[0;34m.\u001b[0m\u001b[0mvalues\u001b[0m\u001b[0;34m[\u001b[0m\u001b[0;34m\"tuner/initial_epoch\"\u001b[0m\u001b[0;34m]\u001b[0m\u001b[0;34m\u001b[0m\u001b[0;34m\u001b[0m\u001b[0m\n\u001b[0;32m--> 384\u001b[0;31m         \u001b[0;32mreturn\u001b[0m \u001b[0msuper\u001b[0m\u001b[0;34m(\u001b[0m\u001b[0mHyperband\u001b[0m\u001b[0;34m,\u001b[0m \u001b[0mself\u001b[0m\u001b[0;34m)\u001b[0m\u001b[0;34m.\u001b[0m\u001b[0mrun_trial\u001b[0m\u001b[0;34m(\u001b[0m\u001b[0mtrial\u001b[0m\u001b[0;34m,\u001b[0m \u001b[0;34m*\u001b[0m\u001b[0mfit_args\u001b[0m\u001b[0;34m,\u001b[0m \u001b[0;34m**\u001b[0m\u001b[0mfit_kwargs\u001b[0m\u001b[0;34m)\u001b[0m\u001b[0;34m\u001b[0m\u001b[0;34m\u001b[0m\u001b[0m\n\u001b[0m\u001b[1;32m    385\u001b[0m \u001b[0;34m\u001b[0m\u001b[0m\n\u001b[1;32m    386\u001b[0m     \u001b[0;32mdef\u001b[0m \u001b[0m_build_model\u001b[0m\u001b[0;34m(\u001b[0m\u001b[0mself\u001b[0m\u001b[0;34m,\u001b[0m \u001b[0mhp\u001b[0m\u001b[0;34m)\u001b[0m\u001b[0;34m:\u001b[0m\u001b[0;34m\u001b[0m\u001b[0;34m\u001b[0m\u001b[0m\n",
            "\u001b[0;32m/usr/local/lib/python3.7/dist-packages/keras_tuner/engine/tuner.py\u001b[0m in \u001b[0;36mrun_trial\u001b[0;34m(self, trial, *args, **kwargs)\u001b[0m\n\u001b[1;32m    292\u001b[0m             \u001b[0mcallbacks\u001b[0m\u001b[0;34m.\u001b[0m\u001b[0mappend\u001b[0m\u001b[0;34m(\u001b[0m\u001b[0mmodel_checkpoint\u001b[0m\u001b[0;34m)\u001b[0m\u001b[0;34m\u001b[0m\u001b[0;34m\u001b[0m\u001b[0m\n\u001b[1;32m    293\u001b[0m             \u001b[0mcopied_kwargs\u001b[0m\u001b[0;34m[\u001b[0m\u001b[0;34m\"callbacks\"\u001b[0m\u001b[0;34m]\u001b[0m \u001b[0;34m=\u001b[0m \u001b[0mcallbacks\u001b[0m\u001b[0;34m\u001b[0m\u001b[0;34m\u001b[0m\u001b[0m\n\u001b[0;32m--> 294\u001b[0;31m             \u001b[0mobj_value\u001b[0m \u001b[0;34m=\u001b[0m \u001b[0mself\u001b[0m\u001b[0;34m.\u001b[0m\u001b[0m_build_and_fit_model\u001b[0m\u001b[0;34m(\u001b[0m\u001b[0mtrial\u001b[0m\u001b[0;34m,\u001b[0m \u001b[0;34m*\u001b[0m\u001b[0margs\u001b[0m\u001b[0;34m,\u001b[0m \u001b[0;34m**\u001b[0m\u001b[0mcopied_kwargs\u001b[0m\u001b[0;34m)\u001b[0m\u001b[0;34m\u001b[0m\u001b[0;34m\u001b[0m\u001b[0m\n\u001b[0m\u001b[1;32m    295\u001b[0m \u001b[0;34m\u001b[0m\u001b[0m\n\u001b[1;32m    296\u001b[0m             \u001b[0mhistories\u001b[0m\u001b[0;34m.\u001b[0m\u001b[0mappend\u001b[0m\u001b[0;34m(\u001b[0m\u001b[0mobj_value\u001b[0m\u001b[0;34m)\u001b[0m\u001b[0;34m\u001b[0m\u001b[0;34m\u001b[0m\u001b[0m\n",
            "\u001b[0;32m/usr/local/lib/python3.7/dist-packages/keras_tuner/engine/tuner.py\u001b[0m in \u001b[0;36m_build_and_fit_model\u001b[0;34m(self, trial, *args, **kwargs)\u001b[0m\n\u001b[1;32m    220\u001b[0m         \u001b[0mhp\u001b[0m \u001b[0;34m=\u001b[0m \u001b[0mtrial\u001b[0m\u001b[0;34m.\u001b[0m\u001b[0mhyperparameters\u001b[0m\u001b[0;34m\u001b[0m\u001b[0;34m\u001b[0m\u001b[0m\n\u001b[1;32m    221\u001b[0m         \u001b[0mmodel\u001b[0m \u001b[0;34m=\u001b[0m \u001b[0mself\u001b[0m\u001b[0;34m.\u001b[0m\u001b[0m_try_build\u001b[0m\u001b[0;34m(\u001b[0m\u001b[0mhp\u001b[0m\u001b[0;34m)\u001b[0m\u001b[0;34m\u001b[0m\u001b[0;34m\u001b[0m\u001b[0m\n\u001b[0;32m--> 222\u001b[0;31m         \u001b[0mresults\u001b[0m \u001b[0;34m=\u001b[0m \u001b[0mself\u001b[0m\u001b[0;34m.\u001b[0m\u001b[0mhypermodel\u001b[0m\u001b[0;34m.\u001b[0m\u001b[0mfit\u001b[0m\u001b[0;34m(\u001b[0m\u001b[0mhp\u001b[0m\u001b[0;34m,\u001b[0m \u001b[0mmodel\u001b[0m\u001b[0;34m,\u001b[0m \u001b[0;34m*\u001b[0m\u001b[0margs\u001b[0m\u001b[0;34m,\u001b[0m \u001b[0;34m**\u001b[0m\u001b[0mkwargs\u001b[0m\u001b[0;34m)\u001b[0m\u001b[0;34m\u001b[0m\u001b[0;34m\u001b[0m\u001b[0m\n\u001b[0m\u001b[1;32m    223\u001b[0m         return tuner_utils.convert_to_metrics_dict(\n\u001b[1;32m    224\u001b[0m             \u001b[0mresults\u001b[0m\u001b[0;34m,\u001b[0m \u001b[0mself\u001b[0m\u001b[0;34m.\u001b[0m\u001b[0moracle\u001b[0m\u001b[0;34m.\u001b[0m\u001b[0mobjective\u001b[0m\u001b[0;34m,\u001b[0m \u001b[0;34m\"HyperModel.fit()\"\u001b[0m\u001b[0;34m\u001b[0m\u001b[0;34m\u001b[0m\u001b[0m\n",
            "\u001b[0;32m/usr/local/lib/python3.7/dist-packages/keras_tuner/engine/hypermodel.py\u001b[0m in \u001b[0;36mfit\u001b[0;34m(self, hp, model, *args, **kwargs)\u001b[0m\n\u001b[1;32m    135\u001b[0m             \u001b[0mIf\u001b[0m \u001b[0;32mreturn\u001b[0m \u001b[0ma\u001b[0m \u001b[0mfloat\u001b[0m\u001b[0;34m,\u001b[0m \u001b[0mit\u001b[0m \u001b[0mshould\u001b[0m \u001b[0mbe\u001b[0m \u001b[0mthe\u001b[0m\u001b[0;31m \u001b[0m\u001b[0;31m`\u001b[0m\u001b[0mobjective\u001b[0m\u001b[0;31m`\u001b[0m \u001b[0mvalue\u001b[0m\u001b[0;34m.\u001b[0m\u001b[0;34m\u001b[0m\u001b[0;34m\u001b[0m\u001b[0m\n\u001b[1;32m    136\u001b[0m         \"\"\"\n\u001b[0;32m--> 137\u001b[0;31m         \u001b[0;32mreturn\u001b[0m \u001b[0mmodel\u001b[0m\u001b[0;34m.\u001b[0m\u001b[0mfit\u001b[0m\u001b[0;34m(\u001b[0m\u001b[0;34m*\u001b[0m\u001b[0margs\u001b[0m\u001b[0;34m,\u001b[0m \u001b[0;34m**\u001b[0m\u001b[0mkwargs\u001b[0m\u001b[0;34m)\u001b[0m\u001b[0;34m\u001b[0m\u001b[0;34m\u001b[0m\u001b[0m\n\u001b[0m\u001b[1;32m    138\u001b[0m \u001b[0;34m\u001b[0m\u001b[0m\n\u001b[1;32m    139\u001b[0m \u001b[0;34m\u001b[0m\u001b[0m\n",
            "\u001b[0;32m/usr/local/lib/python3.7/dist-packages/keras/utils/traceback_utils.py\u001b[0m in \u001b[0;36merror_handler\u001b[0;34m(*args, **kwargs)\u001b[0m\n\u001b[1;32m     62\u001b[0m     \u001b[0mfiltered_tb\u001b[0m \u001b[0;34m=\u001b[0m \u001b[0;32mNone\u001b[0m\u001b[0;34m\u001b[0m\u001b[0;34m\u001b[0m\u001b[0m\n\u001b[1;32m     63\u001b[0m     \u001b[0;32mtry\u001b[0m\u001b[0;34m:\u001b[0m\u001b[0;34m\u001b[0m\u001b[0;34m\u001b[0m\u001b[0m\n\u001b[0;32m---> 64\u001b[0;31m       \u001b[0;32mreturn\u001b[0m \u001b[0mfn\u001b[0m\u001b[0;34m(\u001b[0m\u001b[0;34m*\u001b[0m\u001b[0margs\u001b[0m\u001b[0;34m,\u001b[0m \u001b[0;34m**\u001b[0m\u001b[0mkwargs\u001b[0m\u001b[0;34m)\u001b[0m\u001b[0;34m\u001b[0m\u001b[0;34m\u001b[0m\u001b[0m\n\u001b[0m\u001b[1;32m     65\u001b[0m     \u001b[0;32mexcept\u001b[0m \u001b[0mException\u001b[0m \u001b[0;32mas\u001b[0m \u001b[0me\u001b[0m\u001b[0;34m:\u001b[0m  \u001b[0;31m# pylint: disable=broad-except\u001b[0m\u001b[0;34m\u001b[0m\u001b[0;34m\u001b[0m\u001b[0m\n\u001b[1;32m     66\u001b[0m       \u001b[0mfiltered_tb\u001b[0m \u001b[0;34m=\u001b[0m \u001b[0m_process_traceback_frames\u001b[0m\u001b[0;34m(\u001b[0m\u001b[0me\u001b[0m\u001b[0;34m.\u001b[0m\u001b[0m__traceback__\u001b[0m\u001b[0;34m)\u001b[0m\u001b[0;34m\u001b[0m\u001b[0;34m\u001b[0m\u001b[0m\n",
            "\u001b[0;32m/usr/local/lib/python3.7/dist-packages/keras/engine/training.py\u001b[0m in \u001b[0;36mfit\u001b[0;34m(self, x, y, batch_size, epochs, verbose, callbacks, validation_split, validation_data, shuffle, class_weight, sample_weight, initial_epoch, steps_per_epoch, validation_steps, validation_batch_size, validation_freq, max_queue_size, workers, use_multiprocessing)\u001b[0m\n\u001b[1;32m   1429\u001b[0m               \u001b[0muse_multiprocessing\u001b[0m\u001b[0;34m=\u001b[0m\u001b[0muse_multiprocessing\u001b[0m\u001b[0;34m,\u001b[0m\u001b[0;34m\u001b[0m\u001b[0;34m\u001b[0m\u001b[0m\n\u001b[1;32m   1430\u001b[0m               \u001b[0mreturn_dict\u001b[0m\u001b[0;34m=\u001b[0m\u001b[0;32mTrue\u001b[0m\u001b[0;34m,\u001b[0m\u001b[0;34m\u001b[0m\u001b[0;34m\u001b[0m\u001b[0m\n\u001b[0;32m-> 1431\u001b[0;31m               _use_cached_eval_dataset=True)\n\u001b[0m\u001b[1;32m   1432\u001b[0m           \u001b[0mval_logs\u001b[0m \u001b[0;34m=\u001b[0m \u001b[0;34m{\u001b[0m\u001b[0;34m'val_'\u001b[0m \u001b[0;34m+\u001b[0m \u001b[0mname\u001b[0m\u001b[0;34m:\u001b[0m \u001b[0mval\u001b[0m \u001b[0;32mfor\u001b[0m \u001b[0mname\u001b[0m\u001b[0;34m,\u001b[0m \u001b[0mval\u001b[0m \u001b[0;32min\u001b[0m \u001b[0mval_logs\u001b[0m\u001b[0;34m.\u001b[0m\u001b[0mitems\u001b[0m\u001b[0;34m(\u001b[0m\u001b[0;34m)\u001b[0m\u001b[0;34m}\u001b[0m\u001b[0;34m\u001b[0m\u001b[0;34m\u001b[0m\u001b[0m\n\u001b[1;32m   1433\u001b[0m           \u001b[0mepoch_logs\u001b[0m\u001b[0;34m.\u001b[0m\u001b[0mupdate\u001b[0m\u001b[0;34m(\u001b[0m\u001b[0mval_logs\u001b[0m\u001b[0;34m)\u001b[0m\u001b[0;34m\u001b[0m\u001b[0;34m\u001b[0m\u001b[0m\n",
            "\u001b[0;32m/usr/local/lib/python3.7/dist-packages/keras/utils/traceback_utils.py\u001b[0m in \u001b[0;36merror_handler\u001b[0;34m(*args, **kwargs)\u001b[0m\n\u001b[1;32m     62\u001b[0m     \u001b[0mfiltered_tb\u001b[0m \u001b[0;34m=\u001b[0m \u001b[0;32mNone\u001b[0m\u001b[0;34m\u001b[0m\u001b[0;34m\u001b[0m\u001b[0m\n\u001b[1;32m     63\u001b[0m     \u001b[0;32mtry\u001b[0m\u001b[0;34m:\u001b[0m\u001b[0;34m\u001b[0m\u001b[0;34m\u001b[0m\u001b[0m\n\u001b[0;32m---> 64\u001b[0;31m       \u001b[0;32mreturn\u001b[0m \u001b[0mfn\u001b[0m\u001b[0;34m(\u001b[0m\u001b[0;34m*\u001b[0m\u001b[0margs\u001b[0m\u001b[0;34m,\u001b[0m \u001b[0;34m**\u001b[0m\u001b[0mkwargs\u001b[0m\u001b[0;34m)\u001b[0m\u001b[0;34m\u001b[0m\u001b[0;34m\u001b[0m\u001b[0m\n\u001b[0m\u001b[1;32m     65\u001b[0m     \u001b[0;32mexcept\u001b[0m \u001b[0mException\u001b[0m \u001b[0;32mas\u001b[0m \u001b[0me\u001b[0m\u001b[0;34m:\u001b[0m  \u001b[0;31m# pylint: disable=broad-except\u001b[0m\u001b[0;34m\u001b[0m\u001b[0;34m\u001b[0m\u001b[0m\n\u001b[1;32m     66\u001b[0m       \u001b[0mfiltered_tb\u001b[0m \u001b[0;34m=\u001b[0m \u001b[0m_process_traceback_frames\u001b[0m\u001b[0;34m(\u001b[0m\u001b[0me\u001b[0m\u001b[0;34m.\u001b[0m\u001b[0m__traceback__\u001b[0m\u001b[0;34m)\u001b[0m\u001b[0;34m\u001b[0m\u001b[0;34m\u001b[0m\u001b[0m\n",
            "\u001b[0;32m/usr/local/lib/python3.7/dist-packages/keras/engine/training.py\u001b[0m in \u001b[0;36mevaluate\u001b[0;34m(self, x, y, batch_size, verbose, sample_weight, steps, callbacks, max_queue_size, workers, use_multiprocessing, return_dict, **kwargs)\u001b[0m\n\u001b[1;32m   1708\u001b[0m       \u001b[0mself\u001b[0m\u001b[0;34m.\u001b[0m\u001b[0m_test_counter\u001b[0m\u001b[0;34m.\u001b[0m\u001b[0massign\u001b[0m\u001b[0;34m(\u001b[0m\u001b[0;36m0\u001b[0m\u001b[0;34m)\u001b[0m\u001b[0;34m\u001b[0m\u001b[0;34m\u001b[0m\u001b[0m\n\u001b[1;32m   1709\u001b[0m       \u001b[0mcallbacks\u001b[0m\u001b[0;34m.\u001b[0m\u001b[0mon_test_begin\u001b[0m\u001b[0;34m(\u001b[0m\u001b[0;34m)\u001b[0m\u001b[0;34m\u001b[0m\u001b[0;34m\u001b[0m\u001b[0m\n\u001b[0;32m-> 1710\u001b[0;31m       \u001b[0;32mfor\u001b[0m \u001b[0m_\u001b[0m\u001b[0;34m,\u001b[0m \u001b[0miterator\u001b[0m \u001b[0;32min\u001b[0m \u001b[0mdata_handler\u001b[0m\u001b[0;34m.\u001b[0m\u001b[0menumerate_epochs\u001b[0m\u001b[0;34m(\u001b[0m\u001b[0;34m)\u001b[0m\u001b[0;34m:\u001b[0m  \u001b[0;31m# Single epoch.\u001b[0m\u001b[0;34m\u001b[0m\u001b[0;34m\u001b[0m\u001b[0m\n\u001b[0m\u001b[1;32m   1711\u001b[0m         \u001b[0mself\u001b[0m\u001b[0;34m.\u001b[0m\u001b[0mreset_metrics\u001b[0m\u001b[0;34m(\u001b[0m\u001b[0;34m)\u001b[0m\u001b[0;34m\u001b[0m\u001b[0;34m\u001b[0m\u001b[0m\n\u001b[1;32m   1712\u001b[0m         \u001b[0;32mwith\u001b[0m \u001b[0mdata_handler\u001b[0m\u001b[0;34m.\u001b[0m\u001b[0mcatch_stop_iteration\u001b[0m\u001b[0;34m(\u001b[0m\u001b[0;34m)\u001b[0m\u001b[0;34m:\u001b[0m\u001b[0;34m\u001b[0m\u001b[0;34m\u001b[0m\u001b[0m\n",
            "\u001b[0;32m/usr/local/lib/python3.7/dist-packages/keras/engine/data_adapter.py\u001b[0m in \u001b[0;36menumerate_epochs\u001b[0;34m(self)\u001b[0m\n\u001b[1;32m   1188\u001b[0m   \u001b[0;32mdef\u001b[0m \u001b[0menumerate_epochs\u001b[0m\u001b[0;34m(\u001b[0m\u001b[0mself\u001b[0m\u001b[0;34m)\u001b[0m\u001b[0;34m:\u001b[0m\u001b[0;34m\u001b[0m\u001b[0;34m\u001b[0m\u001b[0m\n\u001b[1;32m   1189\u001b[0m     \u001b[0;34m\"\"\"Yields `(epoch, tf.data.Iterator)`.\"\"\"\u001b[0m\u001b[0;34m\u001b[0m\u001b[0;34m\u001b[0m\u001b[0m\n\u001b[0;32m-> 1190\u001b[0;31m     \u001b[0;32mwith\u001b[0m \u001b[0mself\u001b[0m\u001b[0;34m.\u001b[0m\u001b[0m_truncate_execution_to_epoch\u001b[0m\u001b[0;34m(\u001b[0m\u001b[0;34m)\u001b[0m\u001b[0;34m:\u001b[0m\u001b[0;34m\u001b[0m\u001b[0;34m\u001b[0m\u001b[0m\n\u001b[0m\u001b[1;32m   1191\u001b[0m       \u001b[0mdata_iterator\u001b[0m \u001b[0;34m=\u001b[0m \u001b[0miter\u001b[0m\u001b[0;34m(\u001b[0m\u001b[0mself\u001b[0m\u001b[0;34m.\u001b[0m\u001b[0m_dataset\u001b[0m\u001b[0;34m)\u001b[0m\u001b[0;34m\u001b[0m\u001b[0;34m\u001b[0m\u001b[0m\n\u001b[1;32m   1192\u001b[0m       \u001b[0;32mfor\u001b[0m \u001b[0mepoch\u001b[0m \u001b[0;32min\u001b[0m \u001b[0mrange\u001b[0m\u001b[0;34m(\u001b[0m\u001b[0mself\u001b[0m\u001b[0;34m.\u001b[0m\u001b[0m_initial_epoch\u001b[0m\u001b[0;34m,\u001b[0m \u001b[0mself\u001b[0m\u001b[0;34m.\u001b[0m\u001b[0m_epochs\u001b[0m\u001b[0;34m)\u001b[0m\u001b[0;34m:\u001b[0m\u001b[0;34m\u001b[0m\u001b[0;34m\u001b[0m\u001b[0m\n",
            "\u001b[0;32m/usr/lib/python3.7/contextlib.py\u001b[0m in \u001b[0;36m__enter__\u001b[0;34m(self)\u001b[0m\n\u001b[1;32m    110\u001b[0m         \u001b[0;32mdel\u001b[0m \u001b[0mself\u001b[0m\u001b[0;34m.\u001b[0m\u001b[0margs\u001b[0m\u001b[0;34m,\u001b[0m \u001b[0mself\u001b[0m\u001b[0;34m.\u001b[0m\u001b[0mkwds\u001b[0m\u001b[0;34m,\u001b[0m \u001b[0mself\u001b[0m\u001b[0;34m.\u001b[0m\u001b[0mfunc\u001b[0m\u001b[0;34m\u001b[0m\u001b[0;34m\u001b[0m\u001b[0m\n\u001b[1;32m    111\u001b[0m         \u001b[0;32mtry\u001b[0m\u001b[0;34m:\u001b[0m\u001b[0;34m\u001b[0m\u001b[0;34m\u001b[0m\u001b[0m\n\u001b[0;32m--> 112\u001b[0;31m             \u001b[0;32mreturn\u001b[0m \u001b[0mnext\u001b[0m\u001b[0;34m(\u001b[0m\u001b[0mself\u001b[0m\u001b[0;34m.\u001b[0m\u001b[0mgen\u001b[0m\u001b[0;34m)\u001b[0m\u001b[0;34m\u001b[0m\u001b[0;34m\u001b[0m\u001b[0m\n\u001b[0m\u001b[1;32m    113\u001b[0m         \u001b[0;32mexcept\u001b[0m \u001b[0mStopIteration\u001b[0m\u001b[0;34m:\u001b[0m\u001b[0;34m\u001b[0m\u001b[0;34m\u001b[0m\u001b[0m\n\u001b[1;32m    114\u001b[0m             \u001b[0;32mraise\u001b[0m \u001b[0mRuntimeError\u001b[0m\u001b[0;34m(\u001b[0m\u001b[0;34m\"generator didn't yield\"\u001b[0m\u001b[0;34m)\u001b[0m \u001b[0;32mfrom\u001b[0m \u001b[0;32mNone\u001b[0m\u001b[0;34m\u001b[0m\u001b[0;34m\u001b[0m\u001b[0m\n",
            "\u001b[0;32m/usr/local/lib/python3.7/dist-packages/keras/engine/data_adapter.py\u001b[0m in \u001b[0;36m_truncate_execution_to_epoch\u001b[0;34m(self)\u001b[0m\n\u001b[1;32m   1204\u001b[0m         \u001b[0mself\u001b[0m\u001b[0;34m.\u001b[0m\u001b[0m_inferred_steps\u001b[0m \u001b[0;32mis\u001b[0m \u001b[0;32mnot\u001b[0m \u001b[0;32mNone\u001b[0m \u001b[0;32mand\u001b[0m\u001b[0;34m\u001b[0m\u001b[0;34m\u001b[0m\u001b[0m\n\u001b[1;32m   1205\u001b[0m         self._steps_per_execution.numpy().item() > self._inferred_steps)\n\u001b[0;32m-> 1206\u001b[0;31m     \u001b[0moriginal_value\u001b[0m \u001b[0;34m=\u001b[0m \u001b[0mself\u001b[0m\u001b[0;34m.\u001b[0m\u001b[0m_steps_per_execution\u001b[0m\u001b[0;34m.\u001b[0m\u001b[0mnumpy\u001b[0m\u001b[0;34m(\u001b[0m\u001b[0;34m)\u001b[0m\u001b[0;34m.\u001b[0m\u001b[0mitem\u001b[0m\u001b[0;34m(\u001b[0m\u001b[0;34m)\u001b[0m\u001b[0;34m\u001b[0m\u001b[0;34m\u001b[0m\u001b[0m\n\u001b[0m\u001b[1;32m   1207\u001b[0m     \u001b[0;32mtry\u001b[0m\u001b[0;34m:\u001b[0m\u001b[0;34m\u001b[0m\u001b[0;34m\u001b[0m\u001b[0m\n\u001b[1;32m   1208\u001b[0m       \u001b[0;32mif\u001b[0m \u001b[0mshould_truncate\u001b[0m\u001b[0;34m:\u001b[0m\u001b[0;34m\u001b[0m\u001b[0;34m\u001b[0m\u001b[0m\n",
            "\u001b[0;32m/usr/local/lib/python3.7/dist-packages/tensorflow/python/ops/resource_variable_ops.py\u001b[0m in \u001b[0;36mnumpy\u001b[0;34m(self)\u001b[0m\n\u001b[1;32m    672\u001b[0m   \u001b[0;32mdef\u001b[0m \u001b[0mnumpy\u001b[0m\u001b[0;34m(\u001b[0m\u001b[0mself\u001b[0m\u001b[0;34m)\u001b[0m\u001b[0;34m:\u001b[0m\u001b[0;34m\u001b[0m\u001b[0;34m\u001b[0m\u001b[0m\n\u001b[1;32m    673\u001b[0m     \u001b[0;32mif\u001b[0m \u001b[0mcontext\u001b[0m\u001b[0;34m.\u001b[0m\u001b[0mexecuting_eagerly\u001b[0m\u001b[0;34m(\u001b[0m\u001b[0;34m)\u001b[0m\u001b[0;34m:\u001b[0m\u001b[0;34m\u001b[0m\u001b[0;34m\u001b[0m\u001b[0m\n\u001b[0;32m--> 674\u001b[0;31m       \u001b[0;32mreturn\u001b[0m \u001b[0mself\u001b[0m\u001b[0;34m.\u001b[0m\u001b[0mread_value\u001b[0m\u001b[0;34m(\u001b[0m\u001b[0;34m)\u001b[0m\u001b[0;34m.\u001b[0m\u001b[0mnumpy\u001b[0m\u001b[0;34m(\u001b[0m\u001b[0;34m)\u001b[0m\u001b[0;34m\u001b[0m\u001b[0;34m\u001b[0m\u001b[0m\n\u001b[0m\u001b[1;32m    675\u001b[0m     raise NotImplementedError(\n\u001b[1;32m    676\u001b[0m         \"numpy() is only available when eager execution is enabled.\")\n",
            "\u001b[0;32m/usr/local/lib/python3.7/dist-packages/tensorflow/python/ops/resource_variable_ops.py\u001b[0m in \u001b[0;36mread_value\u001b[0;34m(self)\u001b[0m\n\u001b[1;32m    750\u001b[0m     \u001b[0;31m# Return an identity so it can get placed on whatever device the context\u001b[0m\u001b[0;34m\u001b[0m\u001b[0;34m\u001b[0m\u001b[0;34m\u001b[0m\u001b[0m\n\u001b[1;32m    751\u001b[0m     \u001b[0;31m# specifies instead of the device where the variable is.\u001b[0m\u001b[0;34m\u001b[0m\u001b[0;34m\u001b[0m\u001b[0;34m\u001b[0m\u001b[0m\n\u001b[0;32m--> 752\u001b[0;31m     \u001b[0;32mreturn\u001b[0m \u001b[0marray_ops\u001b[0m\u001b[0;34m.\u001b[0m\u001b[0midentity\u001b[0m\u001b[0;34m(\u001b[0m\u001b[0mvalue\u001b[0m\u001b[0;34m)\u001b[0m\u001b[0;34m\u001b[0m\u001b[0;34m\u001b[0m\u001b[0m\n\u001b[0m\u001b[1;32m    753\u001b[0m \u001b[0;34m\u001b[0m\u001b[0m\n\u001b[1;32m    754\u001b[0m   \u001b[0;32mdef\u001b[0m \u001b[0msparse_read\u001b[0m\u001b[0;34m(\u001b[0m\u001b[0mself\u001b[0m\u001b[0;34m,\u001b[0m \u001b[0mindices\u001b[0m\u001b[0;34m,\u001b[0m \u001b[0mname\u001b[0m\u001b[0;34m=\u001b[0m\u001b[0;32mNone\u001b[0m\u001b[0;34m)\u001b[0m\u001b[0;34m:\u001b[0m\u001b[0;34m\u001b[0m\u001b[0;34m\u001b[0m\u001b[0m\n",
            "\u001b[0;32m/usr/local/lib/python3.7/dist-packages/tensorflow/python/util/traceback_utils.py\u001b[0m in \u001b[0;36merror_handler\u001b[0;34m(*args, **kwargs)\u001b[0m\n\u001b[1;32m    148\u001b[0m     \u001b[0mfiltered_tb\u001b[0m \u001b[0;34m=\u001b[0m \u001b[0;32mNone\u001b[0m\u001b[0;34m\u001b[0m\u001b[0;34m\u001b[0m\u001b[0m\n\u001b[1;32m    149\u001b[0m     \u001b[0;32mtry\u001b[0m\u001b[0;34m:\u001b[0m\u001b[0;34m\u001b[0m\u001b[0;34m\u001b[0m\u001b[0m\n\u001b[0;32m--> 150\u001b[0;31m       \u001b[0;32mreturn\u001b[0m \u001b[0mfn\u001b[0m\u001b[0;34m(\u001b[0m\u001b[0;34m*\u001b[0m\u001b[0margs\u001b[0m\u001b[0;34m,\u001b[0m \u001b[0;34m**\u001b[0m\u001b[0mkwargs\u001b[0m\u001b[0;34m)\u001b[0m\u001b[0;34m\u001b[0m\u001b[0;34m\u001b[0m\u001b[0m\n\u001b[0m\u001b[1;32m    151\u001b[0m     \u001b[0;32mexcept\u001b[0m \u001b[0mException\u001b[0m \u001b[0;32mas\u001b[0m \u001b[0me\u001b[0m\u001b[0;34m:\u001b[0m\u001b[0;34m\u001b[0m\u001b[0;34m\u001b[0m\u001b[0m\n\u001b[1;32m    152\u001b[0m       \u001b[0mfiltered_tb\u001b[0m \u001b[0;34m=\u001b[0m \u001b[0m_process_traceback_frames\u001b[0m\u001b[0;34m(\u001b[0m\u001b[0me\u001b[0m\u001b[0;34m.\u001b[0m\u001b[0m__traceback__\u001b[0m\u001b[0;34m)\u001b[0m\u001b[0;34m\u001b[0m\u001b[0;34m\u001b[0m\u001b[0m\n",
            "\u001b[0;32m/usr/local/lib/python3.7/dist-packages/tensorflow/python/util/dispatch.py\u001b[0m in \u001b[0;36mop_dispatch_handler\u001b[0;34m(*args, **kwargs)\u001b[0m\n\u001b[1;32m   1080\u001b[0m       \u001b[0;31m# Fallback dispatch system (dispatch v1):\u001b[0m\u001b[0;34m\u001b[0m\u001b[0;34m\u001b[0m\u001b[0;34m\u001b[0m\u001b[0m\n\u001b[1;32m   1081\u001b[0m       \u001b[0;32mtry\u001b[0m\u001b[0;34m:\u001b[0m\u001b[0;34m\u001b[0m\u001b[0;34m\u001b[0m\u001b[0m\n\u001b[0;32m-> 1082\u001b[0;31m         \u001b[0;32mreturn\u001b[0m \u001b[0mdispatch_target\u001b[0m\u001b[0;34m(\u001b[0m\u001b[0;34m*\u001b[0m\u001b[0margs\u001b[0m\u001b[0;34m,\u001b[0m \u001b[0;34m**\u001b[0m\u001b[0mkwargs\u001b[0m\u001b[0;34m)\u001b[0m\u001b[0;34m\u001b[0m\u001b[0;34m\u001b[0m\u001b[0m\n\u001b[0m\u001b[1;32m   1083\u001b[0m       \u001b[0;32mexcept\u001b[0m \u001b[0;34m(\u001b[0m\u001b[0mTypeError\u001b[0m\u001b[0;34m,\u001b[0m \u001b[0mValueError\u001b[0m\u001b[0;34m)\u001b[0m\u001b[0;34m:\u001b[0m\u001b[0;34m\u001b[0m\u001b[0;34m\u001b[0m\u001b[0m\n\u001b[1;32m   1084\u001b[0m         \u001b[0;31m# Note: convert_to_eager_tensor currently raises a ValueError, not a\u001b[0m\u001b[0;34m\u001b[0m\u001b[0;34m\u001b[0m\u001b[0;34m\u001b[0m\u001b[0m\n",
            "\u001b[0;32m/usr/local/lib/python3.7/dist-packages/tensorflow/python/ops/array_ops.py\u001b[0m in \u001b[0;36midentity\u001b[0;34m(input, name)\u001b[0m\n\u001b[1;32m    285\u001b[0m     \u001b[0;31m# variables. Variables have correct handle data when graph building.\u001b[0m\u001b[0;34m\u001b[0m\u001b[0;34m\u001b[0m\u001b[0;34m\u001b[0m\u001b[0m\n\u001b[1;32m    286\u001b[0m     \u001b[0minput\u001b[0m \u001b[0;34m=\u001b[0m \u001b[0mops\u001b[0m\u001b[0;34m.\u001b[0m\u001b[0mconvert_to_tensor\u001b[0m\u001b[0;34m(\u001b[0m\u001b[0minput\u001b[0m\u001b[0;34m)\u001b[0m\u001b[0;34m\u001b[0m\u001b[0;34m\u001b[0m\u001b[0m\n\u001b[0;32m--> 287\u001b[0;31m   \u001b[0mret\u001b[0m \u001b[0;34m=\u001b[0m \u001b[0mgen_array_ops\u001b[0m\u001b[0;34m.\u001b[0m\u001b[0midentity\u001b[0m\u001b[0;34m(\u001b[0m\u001b[0minput\u001b[0m\u001b[0;34m,\u001b[0m \u001b[0mname\u001b[0m\u001b[0;34m=\u001b[0m\u001b[0mname\u001b[0m\u001b[0;34m)\u001b[0m\u001b[0;34m\u001b[0m\u001b[0;34m\u001b[0m\u001b[0m\n\u001b[0m\u001b[1;32m    288\u001b[0m   \u001b[0;31m# Propagate handle data for happier shape inference for resource variables.\u001b[0m\u001b[0;34m\u001b[0m\u001b[0;34m\u001b[0m\u001b[0;34m\u001b[0m\u001b[0m\n\u001b[1;32m    289\u001b[0m   \u001b[0;32mif\u001b[0m \u001b[0mhasattr\u001b[0m\u001b[0;34m(\u001b[0m\u001b[0minput\u001b[0m\u001b[0;34m,\u001b[0m \u001b[0;34m\"_handle_data\"\u001b[0m\u001b[0;34m)\u001b[0m\u001b[0;34m:\u001b[0m\u001b[0;34m\u001b[0m\u001b[0;34m\u001b[0m\u001b[0m\n",
            "\u001b[0;32m/usr/local/lib/python3.7/dist-packages/tensorflow/python/ops/gen_array_ops.py\u001b[0m in \u001b[0;36midentity\u001b[0;34m(input, name)\u001b[0m\n\u001b[1;32m   4063\u001b[0m     \u001b[0;32mtry\u001b[0m\u001b[0;34m:\u001b[0m\u001b[0;34m\u001b[0m\u001b[0;34m\u001b[0m\u001b[0m\n\u001b[1;32m   4064\u001b[0m       _result = pywrap_tfe.TFE_Py_FastPathExecute(\n\u001b[0;32m-> 4065\u001b[0;31m         _ctx, \"Identity\", name, input)\n\u001b[0m\u001b[1;32m   4066\u001b[0m       \u001b[0;32mreturn\u001b[0m \u001b[0m_result\u001b[0m\u001b[0;34m\u001b[0m\u001b[0;34m\u001b[0m\u001b[0m\n\u001b[1;32m   4067\u001b[0m     \u001b[0;32mexcept\u001b[0m \u001b[0m_core\u001b[0m\u001b[0;34m.\u001b[0m\u001b[0m_NotOkStatusException\u001b[0m \u001b[0;32mas\u001b[0m \u001b[0me\u001b[0m\u001b[0;34m:\u001b[0m\u001b[0;34m\u001b[0m\u001b[0;34m\u001b[0m\u001b[0m\n",
            "\u001b[0;31mKeyboardInterrupt\u001b[0m: "
          ]
        }
      ]
    },
    {
      "cell_type": "code",
      "source": [
        "tuner.results_summary()"
      ],
      "metadata": {
        "colab": {
          "base_uri": "https://localhost:8080/"
        },
        "outputId": "b3ec3261-bc96-43ea-fa73-51aaa1e6eda1",
        "id": "Ro5XKvl3_kRQ"
      },
      "execution_count": null,
      "outputs": [
        {
          "output_type": "stream",
          "name": "stdout",
          "text": [
            "Results summary\n",
            "Results in my_dir/filters_number\n",
            "Showing 10 best trials\n",
            "<keras_tuner.engine.objective.Objective object at 0x7fa0fa2a9c10>\n",
            "Trial summary\n",
            "Hyperparameters:\n",
            "conv1_filters: 7\n",
            "conv2_filters: 7\n",
            "conv3_filters: 5\n",
            "tuner/epochs: 100\n",
            "tuner/initial_epoch: 34\n",
            "tuner/bracket: 4\n",
            "tuner/round: 4\n",
            "tuner/trial_id: 0143\n",
            "Score: 0.9190000295639038\n",
            "Trial summary\n",
            "Hyperparameters:\n",
            "conv1_filters: 6\n",
            "conv2_filters: 7\n",
            "conv3_filters: 5\n",
            "tuner/epochs: 12\n",
            "tuner/initial_epoch: 4\n",
            "tuner/bracket: 4\n",
            "tuner/round: 2\n",
            "tuner/trial_id: 0116\n",
            "Score: 0.918749988079071\n",
            "Trial summary\n",
            "Hyperparameters:\n",
            "conv1_filters: 7\n",
            "conv2_filters: 7\n",
            "conv3_filters: 5\n",
            "tuner/epochs: 12\n",
            "tuner/initial_epoch: 4\n",
            "tuner/bracket: 4\n",
            "tuner/round: 2\n",
            "tuner/trial_id: 0115\n",
            "Score: 0.9178333282470703\n",
            "Trial summary\n",
            "Hyperparameters:\n",
            "conv1_filters: 5\n",
            "conv2_filters: 8\n",
            "conv3_filters: 5\n",
            "tuner/epochs: 12\n",
            "tuner/initial_epoch: 4\n",
            "tuner/bracket: 4\n",
            "tuner/round: 2\n",
            "tuner/trial_id: 0104\n",
            "Score: 0.9169166684150696\n",
            "Trial summary\n",
            "Hyperparameters:\n",
            "conv1_filters: 6\n",
            "conv2_filters: 7\n",
            "conv3_filters: 5\n",
            "tuner/epochs: 100\n",
            "tuner/initial_epoch: 34\n",
            "tuner/bracket: 4\n",
            "tuner/round: 4\n",
            "tuner/trial_id: 0142\n",
            "Score: 0.9166666865348816\n",
            "Trial summary\n",
            "Hyperparameters:\n",
            "conv1_filters: 6\n",
            "conv2_filters: 6\n",
            "conv3_filters: 7\n",
            "tuner/epochs: 12\n",
            "tuner/initial_epoch: 4\n",
            "tuner/bracket: 4\n",
            "tuner/round: 2\n",
            "tuner/trial_id: 0106\n",
            "Score: 0.9162499904632568\n",
            "Trial summary\n",
            "Hyperparameters:\n",
            "conv1_filters: 6\n",
            "conv2_filters: 7\n",
            "conv3_filters: 5\n",
            "tuner/epochs: 34\n",
            "tuner/initial_epoch: 12\n",
            "tuner/bracket: 4\n",
            "tuner/round: 3\n",
            "tuner/trial_id: 0135\n",
            "Score: 0.9157500267028809\n",
            "Trial summary\n",
            "Hyperparameters:\n",
            "conv1_filters: 7\n",
            "conv2_filters: 7\n",
            "conv3_filters: 5\n",
            "tuner/epochs: 34\n",
            "tuner/initial_epoch: 12\n",
            "tuner/bracket: 4\n",
            "tuner/round: 3\n",
            "tuner/trial_id: 0132\n",
            "Score: 0.9155833125114441\n",
            "Trial summary\n",
            "Hyperparameters:\n",
            "conv1_filters: 5\n",
            "conv2_filters: 8\n",
            "conv3_filters: 5\n",
            "tuner/epochs: 34\n",
            "tuner/initial_epoch: 12\n",
            "tuner/bracket: 4\n",
            "tuner/round: 3\n",
            "tuner/trial_id: 0131\n",
            "Score: 0.9155833125114441\n",
            "Trial summary\n",
            "Hyperparameters:\n",
            "conv1_filters: 7\n",
            "conv2_filters: 6\n",
            "conv3_filters: 6\n",
            "tuner/epochs: 12\n",
            "tuner/initial_epoch: 4\n",
            "tuner/bracket: 4\n",
            "tuner/round: 2\n",
            "tuner/trial_id: 0107\n",
            "Score: 0.9154999852180481\n"
          ]
        }
      ]
    },
    {
      "cell_type": "code",
      "source": [
        "!tensorboard dev upload \\\n",
        "  --logdir logs/fit \\\n",
        "  --name \"filters_number\" \\\n",
        "  --description ''\\\n",
        "  --one_shot"
      ],
      "metadata": {
        "colab": {
          "base_uri": "https://localhost:8080/"
        },
        "outputId": "20f97953-ad33-4382-95e5-8dbfa406b339",
        "id": "ohKSNhWJ_kRQ"
      },
      "execution_count": null,
      "outputs": [
        {
          "output_type": "stream",
          "name": "stdout",
          "text": [
            "\n",
            "***** TensorBoard Uploader *****\n",
            "\n",
            "This will upload your TensorBoard logs to https://tensorboard.dev/ from\n",
            "the following directory:\n",
            "\n",
            "logs/fit\n",
            "\n",
            "This TensorBoard will be visible to everyone. Do not upload sensitive\n",
            "data.\n",
            "\n",
            "Your use of this service is subject to Google's Terms of Service\n",
            "<https://policies.google.com/terms> and Privacy Policy\n",
            "<https://policies.google.com/privacy>, and TensorBoard.dev's Terms of Service\n",
            "<https://tensorboard.dev/policy/terms/>.\n",
            "\n",
            "This notice will not be shown again while you are logged into the uploader.\n",
            "To log out, run `tensorboard dev auth revoke`.\n",
            "\n",
            "Continue? (yes/NO) yes\n",
            "\n",
            "Please visit this URL to authorize this application: https://accounts.google.com/o/oauth2/auth?response_type=code&client_id=373649185512-8v619h5kft38l4456nm2dj4ubeqsrvh6.apps.googleusercontent.com&redirect_uri=urn%3Aietf%3Awg%3Aoauth%3A2.0%3Aoob&scope=openid+https%3A%2F%2Fwww.googleapis.com%2Fauth%2Fuserinfo.email&state=mXtenM1cjuWAbnGT8zJGUuTkc29OYq&prompt=consent&access_type=offline\n",
            "Enter the authorization code: 4/1AX4XfWg1grhAL6oHY-kO-gEVXNRfGfmbETOcx4Nbe1PACtTFTl3VdlkDMCo\n",
            "\n",
            "\n",
            "New experiment created. View your TensorBoard at: https://tensorboard.dev/experiment/iop4UWUGTo6DmxXXZQbzNg/\n",
            "\n",
            "\u001b[1m[2022-04-06T05:26:15]\u001b[0m Started scanning logdir.\n",
            "\u001b[1m[2022-04-06T05:29:00]\u001b[0m Total uploaded: 2778 scalars, 4953 tensors (3.3 MB), 162 binary objects (8.0 MB)\n",
            "\u001b[1m[2022-04-06T05:29:00]\u001b[0m Done scanning logdir.\n",
            "\n",
            "\n",
            "Done. View your TensorBoard at https://tensorboard.dev/experiment/iop4UWUGTo6DmxXXZQbzNg/\n"
          ]
        }
      ]
    },
    {
      "cell_type": "markdown",
      "source": [
        "#### optimizers and learning rate"
      ],
      "metadata": {
        "id": "QekRedYNZ8Pw"
      }
    },
    {
      "cell_type": "code",
      "source": [
        "rm -rf ./logs/ # remove previous log after each run"
      ],
      "metadata": {
        "id": "w8lF4suyZ8Px"
      },
      "execution_count": null,
      "outputs": []
    },
    {
      "cell_type": "code",
      "source": [
        "log_dir = \"logs/fit/\" + datetime.datetime.now().strftime(\"%Y%m%d-%H%M%S\")\n",
        "tensorboard_callback = tf.keras.callbacks.TensorBoard(log_dir=log_dir, histogram_freq=1)"
      ],
      "metadata": {
        "id": "MC84ZqY_Z8Px"
      },
      "execution_count": null,
      "outputs": []
    },
    {
      "cell_type": "code",
      "source": [
        "def build_model_optimizers(hp):\n",
        "  optimizer = hp.Choice(\"optimizer\", ['Adagrad','Adadelta','RMSprop','Adam'])\n",
        "  learning_rate = hp.Choice('learning_rate', values=[1e-1, 1e-2, 1e-4])\n",
        "  model = lenet5_for_kera_tuner(activation = 'relu',\n",
        "                                kernel_initializer = 'glorot_uniform',\n",
        "                                kernel_size = 5,\n",
        "                                conv1_filters =  2**7,\n",
        "                                conv2_filters = 2**7,\n",
        "                                conv3_filters = 2**5,\n",
        "                                optimizer = optimizer,\n",
        "                                lr =learning_rate)\n",
        "  return model\n",
        "\n",
        "build_model_optimizers(kt.HyperParameters())"
      ],
      "metadata": {
        "colab": {
          "base_uri": "https://localhost:8080/"
        },
        "outputId": "2e3d5740-bc7d-4dbe-9dbe-e4453d54d7cd",
        "id": "AtbhZWdJZ8Px"
      },
      "execution_count": null,
      "outputs": [
        {
          "output_type": "execute_result",
          "data": {
            "text/plain": [
              "<keras.engine.sequential.Sequential at 0x7fa0c2799610>"
            ]
          },
          "metadata": {},
          "execution_count": 68
        }
      ]
    },
    {
      "cell_type": "code",
      "source": [
        "tuner = kt.RandomSearch(\n",
        "    hypermodel=build_model_optimizers,\n",
        "    objective=\"val_accuracy\",\n",
        "    max_trials=100,\n",
        "    executions_per_trial=1,\n",
        "    overwrite=True,\n",
        "    directory=\"my_dir\",\n",
        "    project_name=\"optimizers\",\n",
        ")"
      ],
      "metadata": {
        "id": "rHbsXaEnZ8Px"
      },
      "execution_count": null,
      "outputs": []
    },
    {
      "cell_type": "code",
      "source": [
        "tuner.search(\n",
        "    training_images,\n",
        "    training_labels_encoded,\n",
        "    validation_split=0.2,\n",
        "    epochs=20,\n",
        "    callbacks=[tf.keras.callbacks.EarlyStopping(monitor='val_loss', patience=5, restore_best_weights=True),\n",
        "               tensorboard_callback],\n",
        ")"
      ],
      "metadata": {
        "colab": {
          "base_uri": "https://localhost:8080/"
        },
        "outputId": "4760d038-4076-4015-fb84-c0f8aa2bba96",
        "id": "ifgQjuIPZ8Px"
      },
      "execution_count": null,
      "outputs": [
        {
          "output_type": "stream",
          "name": "stdout",
          "text": [
            "Trial 10 Complete [00h 03m 22s]\n",
            "val_accuracy: 0.909500002861023\n",
            "\n",
            "Best val_accuracy So Far: 0.9164166450500488\n",
            "Total elapsed time: 00h 26m 12s\n",
            "INFO:tensorflow:Oracle triggered exit\n"
          ]
        }
      ]
    },
    {
      "cell_type": "code",
      "source": [
        "tuner.results_summary()"
      ],
      "metadata": {
        "colab": {
          "base_uri": "https://localhost:8080/"
        },
        "outputId": "064657ef-2c65-44eb-e5ed-117421e2de6f",
        "id": "zOtFeGIJZ8Px"
      },
      "execution_count": null,
      "outputs": [
        {
          "output_type": "stream",
          "name": "stdout",
          "text": [
            "Results summary\n",
            "Results in my_dir/optimizers\n",
            "Showing 10 best trials\n",
            "<keras_tuner.engine.objective.Objective object at 0x7fa0c2710790>\n",
            "Trial summary\n",
            "Hyperparameters:\n",
            "optimizer: Adagrad\n",
            "learning_rate: 0.1\n",
            "Score: 0.9164166450500488\n",
            "Trial summary\n",
            "Hyperparameters:\n",
            "optimizer: RMSprop\n",
            "learning_rate: 0.0001\n",
            "Score: 0.9148333072662354\n",
            "Trial summary\n",
            "Hyperparameters:\n",
            "optimizer: Adam\n",
            "learning_rate: 0.0001\n",
            "Score: 0.9139166474342346\n",
            "Trial summary\n",
            "Hyperparameters:\n",
            "optimizer: Adadelta\n",
            "learning_rate: 0.1\n",
            "Score: 0.9125833511352539\n",
            "Trial summary\n",
            "Hyperparameters:\n",
            "optimizer: Adagrad\n",
            "learning_rate: 0.01\n",
            "Score: 0.909500002861023\n",
            "Trial summary\n",
            "Hyperparameters:\n",
            "optimizer: Adam\n",
            "learning_rate: 0.01\n",
            "Score: 0.8765000104904175\n",
            "Trial summary\n",
            "Hyperparameters:\n",
            "optimizer: Adadelta\n",
            "learning_rate: 0.01\n",
            "Score: 0.8560000061988831\n",
            "Trial summary\n",
            "Hyperparameters:\n",
            "optimizer: Adadelta\n",
            "learning_rate: 0.0001\n",
            "Score: 0.30508333444595337\n",
            "Trial summary\n",
            "Hyperparameters:\n",
            "optimizer: Adam\n",
            "learning_rate: 0.1\n",
            "Score: 0.10266666859388351\n",
            "Trial summary\n",
            "Hyperparameters:\n",
            "optimizer: RMSprop\n",
            "learning_rate: 0.1\n",
            "Score: 0.10266666859388351\n"
          ]
        }
      ]
    },
    {
      "cell_type": "markdown",
      "source": [
        "from the previous trials Adam with 0.001 learning rate has the heighest validation acc so far with 92%"
      ],
      "metadata": {
        "id": "jYI6xw9Amz28"
      }
    },
    {
      "cell_type": "code",
      "source": [
        "!tensorboard dev upload \\\n",
        "  --logdir logs/fit \\\n",
        "  --name \"optimizers and learning rate\" \\\n",
        "  --description 'the best is Adam(lr = 0.001)'\\\n",
        "  --one_shot"
      ],
      "metadata": {
        "colab": {
          "base_uri": "https://localhost:8080/"
        },
        "outputId": "eab7e818-3ffd-4569-cb2b-ca90a5e29a48",
        "id": "j6qAw2vaZ8Py"
      },
      "execution_count": null,
      "outputs": [
        {
          "output_type": "stream",
          "name": "stdout",
          "text": [
            "\n",
            "New experiment created. View your TensorBoard at: https://tensorboard.dev/experiment/mNy1Pm4lQQyUmpynu4ZvuA/\n",
            "\n",
            "\u001b[1m[2022-04-06T06:42:48]\u001b[0m Started scanning logdir.\n",
            "\u001b[1m[2022-04-06T06:42:59]\u001b[0m Total uploaded: 930 scalars, 1570 tensors (1.1 MB), 10 binary objects (543.9 kB)\n",
            "\u001b[1m[2022-04-06T06:42:59]\u001b[0m Done scanning logdir.\n",
            "\n",
            "\n",
            "Done. View your TensorBoard at https://tensorboard.dev/experiment/mNy1Pm4lQQyUmpynu4ZvuA/\n"
          ]
        }
      ]
    },
    {
      "cell_type": "markdown",
      "source": [
        "#### dropout"
      ],
      "metadata": {
        "id": "cRHVLSY3uQeP"
      }
    },
    {
      "cell_type": "code",
      "source": [
        "rm -rf ./logs/ # remove previous log after each run"
      ],
      "metadata": {
        "id": "S0c6CyMbuQeZ"
      },
      "execution_count": null,
      "outputs": []
    },
    {
      "cell_type": "code",
      "source": [
        "log_dir = \"logs/fit/\" + datetime.datetime.now().strftime(\"%Y%m%d-%H%M%S\")\n",
        "tensorboard_callback = tf.keras.callbacks.TensorBoard(log_dir=log_dir, histogram_freq=1)"
      ],
      "metadata": {
        "id": "Ar-076n2uQeZ"
      },
      "execution_count": null,
      "outputs": []
    },
    {
      "cell_type": "code",
      "source": [
        "def build_model_optimizers(hp):\n",
        "  drop_out_rate = hp.Choice(\"drop_out_rate\", [0.2,0.3,0.4,0.5])\n",
        "  model = lenet5_for_kera_tuner(activation = 'relu',\n",
        "                                kernel_initializer = 'glorot_uniform',\n",
        "                                kernel_size = 5,\n",
        "                                conv1_filters =  2**7,\n",
        "                                conv2_filters = 2**7,\n",
        "                                conv3_filters = 2**5,\n",
        "                                optimizer = 'Adam',\n",
        "                                lr = 0.001,\n",
        "                                drop_out = True,\n",
        "                                drop_out_rate = drop_out_rate)\n",
        "  return model\n",
        "\n",
        "build_model_optimizers(kt.HyperParameters())"
      ],
      "metadata": {
        "colab": {
          "base_uri": "https://localhost:8080/"
        },
        "outputId": "2adf2887-c138-44c6-ac71-18e6d63f218f",
        "id": "_Jr-FzgyuQea"
      },
      "execution_count": null,
      "outputs": [
        {
          "output_type": "execute_result",
          "data": {
            "text/plain": [
              "<keras.engine.sequential.Sequential at 0x7ff42f2a3a90>"
            ]
          },
          "metadata": {},
          "execution_count": 24
        }
      ]
    },
    {
      "cell_type": "code",
      "source": [
        "tuner = kt.RandomSearch(\n",
        "    hypermodel=build_model_optimizers,\n",
        "    objective=\"val_accuracy\",\n",
        "    max_trials=100,\n",
        "    executions_per_trial=1,\n",
        "    overwrite=True,\n",
        "    directory=\"my_dir\",\n",
        "    project_name=\"drop_out\",\n",
        ")"
      ],
      "metadata": {
        "id": "_CQ_ps15uQeb"
      },
      "execution_count": null,
      "outputs": []
    },
    {
      "cell_type": "code",
      "source": [
        "tuner.search(\n",
        "    training_images,\n",
        "    training_labels_encoded,\n",
        "    validation_split=0.2,\n",
        "    epochs=20,\n",
        "    callbacks=[tf.keras.callbacks.EarlyStopping(monitor='val_loss', patience=5, restore_best_weights=True),\n",
        "               tensorboard_callback],\n",
        ")"
      ],
      "metadata": {
        "colab": {
          "base_uri": "https://localhost:8080/"
        },
        "outputId": "46451038-9cec-47f5-b476-99cbd0958f13",
        "id": "Gpij2UhzuQec"
      },
      "execution_count": null,
      "outputs": [
        {
          "output_type": "stream",
          "name": "stdout",
          "text": [
            "Trial 4 Complete [00h 10m 23s]\n",
            "val_accuracy: 0.9211666584014893\n",
            "\n",
            "Best val_accuracy So Far: 0.9211666584014893\n",
            "Total elapsed time: 00h 38m 29s\n",
            "INFO:tensorflow:Oracle triggered exit\n"
          ]
        }
      ]
    },
    {
      "cell_type": "code",
      "source": [
        "tuner.results_summary()"
      ],
      "metadata": {
        "colab": {
          "base_uri": "https://localhost:8080/"
        },
        "outputId": "04e9c5b3-42af-47e6-fbd5-52c6cbca6e4f",
        "id": "ryAX_D9cuQed"
      },
      "execution_count": null,
      "outputs": [
        {
          "output_type": "stream",
          "name": "stdout",
          "text": [
            "Results summary\n",
            "Results in my_dir/drop_out\n",
            "Showing 10 best trials\n",
            "<keras_tuner.engine.objective.Objective object at 0x7ff430ac3e90>\n",
            "Trial summary\n",
            "Hyperparameters:\n",
            "drop_out_rate: 0.2\n",
            "Score: 0.9211666584014893\n",
            "Trial summary\n",
            "Hyperparameters:\n",
            "drop_out_rate: 0.3\n",
            "Score: 0.9173333048820496\n",
            "Trial summary\n",
            "Hyperparameters:\n",
            "drop_out_rate: 0.4\n",
            "Score: 0.9104999899864197\n",
            "Trial summary\n",
            "Hyperparameters:\n",
            "drop_out_rate: 0.5\n",
            "Score: 0.8952500224113464\n"
          ]
        }
      ]
    },
    {
      "cell_type": "markdown",
      "source": [],
      "metadata": {
        "id": "mxqQE3lNuQed"
      }
    },
    {
      "cell_type": "code",
      "source": [
        "!tensorboard dev upload \\\n",
        "  --logdir logs/fit \\\n",
        "  --name \"drop out\" \\\n",
        "  --description 'the best is 0.2'\\\n",
        "  --one_shot"
      ],
      "metadata": {
        "colab": {
          "base_uri": "https://localhost:8080/"
        },
        "outputId": "463cdc0f-593f-4930-8653-5ddd7f3bac49",
        "id": "3G16QJi7uQee"
      },
      "execution_count": null,
      "outputs": [
        {
          "output_type": "stream",
          "name": "stdout",
          "text": [
            "\n",
            "***** TensorBoard Uploader *****\n",
            "\n",
            "This will upload your TensorBoard logs to https://tensorboard.dev/ from\n",
            "the following directory:\n",
            "\n",
            "logs/fit\n",
            "\n",
            "This TensorBoard will be visible to everyone. Do not upload sensitive\n",
            "data.\n",
            "\n",
            "Your use of this service is subject to Google's Terms of Service\n",
            "<https://policies.google.com/terms> and Privacy Policy\n",
            "<https://policies.google.com/privacy>, and TensorBoard.dev's Terms of Service\n",
            "<https://tensorboard.dev/policy/terms/>.\n",
            "\n",
            "This notice will not be shown again while you are logged into the uploader.\n",
            "To log out, run `tensorboard dev auth revoke`.\n",
            "\n",
            "Continue? (yes/NO) yes\n",
            "\n",
            "Please visit this URL to authorize this application: https://accounts.google.com/o/oauth2/auth?response_type=code&client_id=373649185512-8v619h5kft38l4456nm2dj4ubeqsrvh6.apps.googleusercontent.com&redirect_uri=urn%3Aietf%3Awg%3Aoauth%3A2.0%3Aoob&scope=openid+https%3A%2F%2Fwww.googleapis.com%2Fauth%2Fuserinfo.email&state=QbbXqPkqNrtz6dfL894p9Ut8D21ca6&prompt=consent&access_type=offline\n",
            "Enter the authorization code: 4/1AX4XfWg9Ql3XaZ7tKTW1uMJfokr6KaFa9xNcFwaZ3I_KnpeJ6RQ29Yhxj1Q\n",
            "\n",
            "\n",
            "New experiment created. View your TensorBoard at: https://tensorboard.dev/experiment/NyJMtwubTQGaI3marVLs6g/\n",
            "\n",
            "\u001b[1m[2022-04-06T22:29:24]\u001b[0m Started scanning logdir.\n",
            "\u001b[1m[2022-04-06T22:29:28]\u001b[0m Total uploaded: 450 scalars, 758 tensors (539.1 kB), 4 binary objects (254.5 kB)\n",
            "\u001b[1m[2022-04-06T22:29:28]\u001b[0m Done scanning logdir.\n",
            "\n",
            "\n",
            "Done. View your TensorBoard at https://tensorboard.dev/experiment/NyJMtwubTQGaI3marVLs6g/\n"
          ]
        }
      ]
    },
    {
      "cell_type": "markdown",
      "source": [
        "#### batch norm"
      ],
      "metadata": {
        "id": "4T_X4wIQq0KY"
      }
    },
    {
      "cell_type": "code",
      "source": [
        "rm -rf ./logs/ # remove previous log after each run"
      ],
      "metadata": {
        "id": "iy7IdUsiq0Ka"
      },
      "execution_count": null,
      "outputs": []
    },
    {
      "cell_type": "code",
      "source": [
        "log_dir = \"logs/fit/\" + datetime.datetime.now().strftime(\"%Y%m%d-%H%M%S\")\n",
        "tensorboard_callback = tf.keras.callbacks.TensorBoard(log_dir=log_dir, histogram_freq=1)"
      ],
      "metadata": {
        "id": "C4T1okvHq0Kc"
      },
      "execution_count": null,
      "outputs": []
    },
    {
      "cell_type": "code",
      "source": [
        "model = lenet5_for_kera_tuner(activation = 'relu',\n",
        "                              kernel_initializer = 'glorot_uniform',\n",
        "                              kernel_size = 5,\n",
        "                              conv1_filters =  2**7,\n",
        "                              conv2_filters = 2**7,\n",
        "                              conv3_filters = 2**5,\n",
        "                              optimizer = 'Adam',\n",
        "                              lr = 0.001,\n",
        "                              drop_out = True,\n",
        "                              drop_out_rate = 0.2,\n",
        "                              batch_norm = True)\n"
      ],
      "metadata": {
        "id": "aLcvEEcJq0Kd"
      },
      "execution_count": null,
      "outputs": []
    },
    {
      "cell_type": "code",
      "source": [
        "hist = model.fit(\n",
        "    training_images, \n",
        "    training_labels_encoded, \n",
        "    validation_split = 0.2,\n",
        "    epochs=60,\n",
        "    batch_size=32,\n",
        "    callbacks=[\n",
        "        tensorboard_callback,\n",
        "        tf.keras.callbacks.EarlyStopping(monitor='val_loss', patience=5 )\n",
        "    ],\n",
        "    verbose=1)"
      ],
      "metadata": {
        "colab": {
          "base_uri": "https://localhost:8080/"
        },
        "id": "m-S6Vv0uq0Ke",
        "outputId": "43d77baa-0119-46d9-ebfe-9a2559379ca6"
      },
      "execution_count": null,
      "outputs": [
        {
          "output_type": "stream",
          "name": "stdout",
          "text": [
            "Epoch 1/60\n",
            "1500/1500 [==============================] - 38s 24ms/step - loss: 0.5640 - accuracy: 0.7969 - val_loss: 0.3404 - val_accuracy: 0.8700\n",
            "Epoch 2/60\n",
            "1500/1500 [==============================] - 36s 24ms/step - loss: 0.3791 - accuracy: 0.8616 - val_loss: 0.3005 - val_accuracy: 0.8875\n",
            "Epoch 3/60\n",
            "1500/1500 [==============================] - 37s 24ms/step - loss: 0.3322 - accuracy: 0.8790 - val_loss: 0.2885 - val_accuracy: 0.8933\n",
            "Epoch 4/60\n",
            "1500/1500 [==============================] - 36s 24ms/step - loss: 0.3057 - accuracy: 0.8892 - val_loss: 0.2600 - val_accuracy: 0.9036\n",
            "Epoch 5/60\n",
            "1500/1500 [==============================] - 36s 24ms/step - loss: 0.2842 - accuracy: 0.8974 - val_loss: 0.2426 - val_accuracy: 0.9071\n",
            "Epoch 6/60\n",
            "1500/1500 [==============================] - 35s 24ms/step - loss: 0.2658 - accuracy: 0.9021 - val_loss: 0.2699 - val_accuracy: 0.8977\n",
            "Epoch 7/60\n",
            "1500/1500 [==============================] - 35s 24ms/step - loss: 0.2474 - accuracy: 0.9110 - val_loss: 0.2431 - val_accuracy: 0.9119\n",
            "Epoch 8/60\n",
            "1500/1500 [==============================] - 36s 24ms/step - loss: 0.2364 - accuracy: 0.9139 - val_loss: 0.2327 - val_accuracy: 0.9134\n",
            "Epoch 9/60\n",
            "1500/1500 [==============================] - 36s 24ms/step - loss: 0.2255 - accuracy: 0.9187 - val_loss: 0.2254 - val_accuracy: 0.9183\n",
            "Epoch 10/60\n",
            "1500/1500 [==============================] - 36s 24ms/step - loss: 0.2128 - accuracy: 0.9233 - val_loss: 0.2357 - val_accuracy: 0.9131\n",
            "Epoch 11/60\n",
            "1500/1500 [==============================] - 36s 24ms/step - loss: 0.2056 - accuracy: 0.9250 - val_loss: 0.2199 - val_accuracy: 0.9213\n",
            "Epoch 12/60\n",
            "1500/1500 [==============================] - 35s 24ms/step - loss: 0.1963 - accuracy: 0.9290 - val_loss: 0.2239 - val_accuracy: 0.9168\n",
            "Epoch 13/60\n",
            "1500/1500 [==============================] - 36s 24ms/step - loss: 0.1876 - accuracy: 0.9323 - val_loss: 0.2204 - val_accuracy: 0.9221\n",
            "Epoch 14/60\n",
            "1500/1500 [==============================] - 36s 24ms/step - loss: 0.1805 - accuracy: 0.9351 - val_loss: 0.2164 - val_accuracy: 0.9225\n",
            "Epoch 15/60\n",
            "1500/1500 [==============================] - 36s 24ms/step - loss: 0.1717 - accuracy: 0.9372 - val_loss: 0.2335 - val_accuracy: 0.9172\n",
            "Epoch 16/60\n",
            "1500/1500 [==============================] - 35s 23ms/step - loss: 0.1678 - accuracy: 0.9383 - val_loss: 0.2287 - val_accuracy: 0.9213\n",
            "Epoch 17/60\n",
            "1500/1500 [==============================] - 35s 24ms/step - loss: 0.1703 - accuracy: 0.9377 - val_loss: 0.2144 - val_accuracy: 0.9249\n",
            "Epoch 18/60\n",
            "1500/1500 [==============================] - 36s 24ms/step - loss: 0.1537 - accuracy: 0.9448 - val_loss: 0.2199 - val_accuracy: 0.9233\n",
            "Epoch 19/60\n",
            "1500/1500 [==============================] - 36s 24ms/step - loss: 0.1472 - accuracy: 0.9465 - val_loss: 0.2174 - val_accuracy: 0.9243\n",
            "Epoch 20/60\n",
            "1500/1500 [==============================] - 35s 23ms/step - loss: 0.1430 - accuracy: 0.9476 - val_loss: 0.2273 - val_accuracy: 0.9247\n",
            "Epoch 21/60\n",
            "1500/1500 [==============================] - 35s 24ms/step - loss: 0.1421 - accuracy: 0.9477 - val_loss: 0.2243 - val_accuracy: 0.9219\n",
            "Epoch 22/60\n",
            "1500/1500 [==============================] - 36s 24ms/step - loss: 0.1368 - accuracy: 0.9507 - val_loss: 0.2417 - val_accuracy: 0.9222\n"
          ]
        }
      ]
    },
    {
      "cell_type": "markdown",
      "source": [
        "loss: 0.1472 - accuracy: 0.9465 - val_loss: 0.2174 - val_accuracy: 0.9243"
      ],
      "metadata": {
        "id": "B0n1g2t9q0Kg"
      }
    },
    {
      "cell_type": "code",
      "source": [
        "!tensorboard dev upload \\\n",
        "  --logdir logs/fit \\\n",
        "  --name \"batch normalization\" \\\n",
        "  --description 'top val_acc achieved (0.9243)'\\\n",
        "  --one_shot"
      ],
      "metadata": {
        "colab": {
          "base_uri": "https://localhost:8080/"
        },
        "outputId": "79bd05e5-cb46-4501-9f57-3aca2bd3cce4",
        "id": "_IQSf_RFq0Kh"
      },
      "execution_count": null,
      "outputs": [
        {
          "output_type": "stream",
          "name": "stdout",
          "text": [
            "\n",
            "New experiment created. View your TensorBoard at: https://tensorboard.dev/experiment/7IzsQ5U2R76jjUKar4SarQ/\n",
            "\n",
            "\u001b[1m[2022-04-06T22:59:42]\u001b[0m Started scanning logdir.\n",
            "\u001b[1m[2022-04-06T22:59:43]\u001b[0m Total uploaded: 132 scalars, 572 tensors (410.6 kB), 1 binary objects (116.9 kB)\n",
            "\u001b[1m[2022-04-06T22:59:43]\u001b[0m Done scanning logdir.\n",
            "\n",
            "\n",
            "Done. View your TensorBoard at https://tensorboard.dev/experiment/7IzsQ5U2R76jjUKar4SarQ/\n"
          ]
        }
      ]
    },
    {
      "cell_type": "markdown",
      "source": [
        "### Evaluate the model"
      ],
      "metadata": {
        "id": "xYk37sAxZONn"
      }
    },
    {
      "cell_type": "code",
      "source": [
        "!pip install scikeras tensorflow"
      ],
      "metadata": {
        "id": "mw1uFuZ6A7xC"
      },
      "execution_count": null,
      "outputs": []
    },
    {
      "cell_type": "code",
      "source": [
        "model = lenet5_for_kera_tuner(activation = 'relu',\n",
        "                              kernel_initializer = 'glorot_uniform',\n",
        "                              kernel_size = 5,\n",
        "                              conv1_filters =  2**7,\n",
        "                              conv2_filters = 2**7,\n",
        "                              conv3_filters = 2**5,\n",
        "                              optimizer = 'Adam',\n",
        "                              lr = 0.001)"
      ],
      "metadata": {
        "id": "181wAcnKoRxL"
      },
      "execution_count": null,
      "outputs": []
    },
    {
      "cell_type": "code",
      "source": [
        "# Create function returning a compiled network\n",
        "def evaluation_network():\n",
        "  \n",
        "  model = Sequential()\n",
        "  model.add(Conv2D(2**7, (5,5) ,padding='same', activation = 'relu', kernel_initializer='he_uniform', input_shape=(training_images[0].shape)))\n",
        "  model.add(SpatialDropout2D(0.2))\n",
        "  model.add(MaxPooling2D(pool_size=(2, 2)))\n",
        "\n",
        "  model.add(BatchNormalization())\n",
        "  model.add(Conv2D(2**7, (5,5) , kernel_initializer='he_uniform', activation = 'relu'))\n",
        "  model.add(SpatialDropout2D(0.2))\n",
        "  model.add(MaxPooling2D(pool_size=(2, 2)))\n",
        "  \n",
        "  model.add(BatchNormalization())\n",
        "  model.add(Conv2D(2**5, (5,5) , kernel_initializer='he_uniform', activation = 'relu'))\n",
        "  model.add(SpatialDropout2D(0.2))\n",
        "  model.add(Flatten())\n",
        "  \n",
        "  model.add(BatchNormalization())\n",
        "  model.add(Dense(84, activation = 'relu'))\n",
        "  model.add(BatchNormalization())\n",
        "  model.add(Dense(10, activation='softmax'))\n",
        "\n",
        "  model.compile(loss='categorical_crossentropy', optimizer= Adam(0.001), metrics=['accuracy'])\n",
        "\n",
        "  return model"
      ],
      "metadata": {
        "id": "dE8eDk6rIJDO"
      },
      "execution_count": null,
      "outputs": []
    },
    {
      "cell_type": "code",
      "source": [
        "# Wrap Keras model so it can be used by scikit-learn\n",
        "from scikeras.wrappers import KerasClassifier\n",
        "neural_network = KerasClassifier(model=lenet5_for_kera_tuner, \n",
        "                                  epochs=20, \n",
        "                                  batch_size=32, \n",
        "                                  activation = 'relu',\n",
        "                                  kernel_initializer = 'glorot_uniform',\n",
        "                                  kernel_size = 5,\n",
        "                                  conv1_filters =  2**7,\n",
        "                                  conv2_filters = 2**7,\n",
        "                                  conv3_filters = 2**5,\n",
        "                                  optimizer = 'Adam',\n",
        "                                  lr = 0.001,\n",
        "                                  drop_out = True,\n",
        "                                  drop_out_rate = 0.2,\n",
        "                                  batch_norm = True,\n",
        "                                )"
      ],
      "metadata": {
        "id": "HpBIhmRoBHE5"
      },
      "execution_count": null,
      "outputs": []
    },
    {
      "cell_type": "code",
      "source": [
        "neural_network"
      ],
      "metadata": {
        "colab": {
          "base_uri": "https://localhost:8080/"
        },
        "id": "4SAEvhnZLULN",
        "outputId": "ff8de4b6-9719-44f7-f27a-04df8c20962c"
      },
      "execution_count": null,
      "outputs": [
        {
          "output_type": "execute_result",
          "data": {
            "text/plain": [
              "KerasClassifier(\n",
              "\tmodel=<function lenet5_for_kera_tuner at 0x7ff430ab1200>\n",
              "\tbuild_fn=None\n",
              "\twarm_start=False\n",
              "\trandom_state=None\n",
              "\toptimizer=Adam\n",
              "\tloss=None\n",
              "\tmetrics=None\n",
              "\tbatch_size=32\n",
              "\tvalidation_batch_size=None\n",
              "\tverbose=1\n",
              "\tcallbacks=None\n",
              "\tvalidation_split=0.0\n",
              "\tshuffle=True\n",
              "\trun_eagerly=False\n",
              "\tepochs=20\n",
              "\tactivation=relu\n",
              "\tkernel_initializer=glorot_uniform\n",
              "\tkernel_size=5\n",
              "\tconv1_filters=128\n",
              "\tconv2_filters=128\n",
              "\tconv3_filters=32\n",
              "\tlr=0.001\n",
              "\tdrop_out_rate=0.2\n",
              "\tbatch_norm=True\n",
              "\tclass_weight=None\n",
              ")"
            ]
          },
          "metadata": {},
          "execution_count": 73
        }
      ]
    },
    {
      "cell_type": "code",
      "source": [
        "cv = KFold(n_splits=5, shuffle=True)\n",
        "# evaluate model\n",
        "scores = cross_val_score(neural_network, training_images, training_labels_encoded, scoring='accuracy', cv=cv)\n"
      ],
      "metadata": {
        "colab": {
          "base_uri": "https://localhost:8080/"
        },
        "id": "-yBh_RVsHHBK",
        "outputId": "c9810d7c-91c3-4a0d-f9a0-2e25c7be1287"
      },
      "execution_count": null,
      "outputs": [
        {
          "output_type": "stream",
          "name": "stdout",
          "text": [
            "Epoch 1/20\n",
            "1500/1500 [==============================] - 35s 22ms/step - loss: 0.5433 - accuracy: 0.8062\n",
            "Epoch 2/20\n",
            "1500/1500 [==============================] - 34s 22ms/step - loss: 0.3692 - accuracy: 0.8661\n",
            "Epoch 3/20\n",
            "1500/1500 [==============================] - 33s 22ms/step - loss: 0.3294 - accuracy: 0.8820\n",
            "Epoch 4/20\n",
            "1500/1500 [==============================] - 33s 22ms/step - loss: 0.3021 - accuracy: 0.8932\n",
            "Epoch 5/20\n",
            "1500/1500 [==============================] - 33s 22ms/step - loss: 0.2774 - accuracy: 0.9009\n",
            "Epoch 6/20\n",
            "1500/1500 [==============================] - 33s 22ms/step - loss: 0.2631 - accuracy: 0.9055\n",
            "Epoch 7/20\n",
            "1500/1500 [==============================] - 33s 22ms/step - loss: 0.2453 - accuracy: 0.9110\n",
            "Epoch 8/20\n",
            "1500/1500 [==============================] - 33s 22ms/step - loss: 0.2332 - accuracy: 0.9167\n",
            "Epoch 9/20\n",
            "1500/1500 [==============================] - 32s 22ms/step - loss: 0.2214 - accuracy: 0.9210\n",
            "Epoch 10/20\n",
            "1500/1500 [==============================] - 32s 22ms/step - loss: 0.2125 - accuracy: 0.9238\n",
            "Epoch 11/20\n",
            "1500/1500 [==============================] - 33s 22ms/step - loss: 0.2017 - accuracy: 0.9265\n",
            "Epoch 12/20\n",
            "1500/1500 [==============================] - 32s 22ms/step - loss: 0.1947 - accuracy: 0.9290\n",
            "Epoch 13/20\n",
            "1500/1500 [==============================] - 32s 22ms/step - loss: 0.1862 - accuracy: 0.9331\n",
            "Epoch 14/20\n",
            "1500/1500 [==============================] - 33s 22ms/step - loss: 0.1773 - accuracy: 0.9353\n",
            "Epoch 15/20\n",
            "1500/1500 [==============================] - 33s 22ms/step - loss: 0.1703 - accuracy: 0.9385\n",
            "Epoch 16/20\n",
            "1500/1500 [==============================] - 33s 22ms/step - loss: 0.1674 - accuracy: 0.9391\n",
            "Epoch 17/20\n",
            "1500/1500 [==============================] - 33s 22ms/step - loss: 0.1584 - accuracy: 0.9426\n",
            "Epoch 18/20\n",
            "1500/1500 [==============================] - 33s 22ms/step - loss: 0.1526 - accuracy: 0.9446\n",
            "Epoch 19/20\n",
            "1500/1500 [==============================] - 33s 22ms/step - loss: 0.1452 - accuracy: 0.9470\n",
            "Epoch 20/20\n",
            "1500/1500 [==============================] - 33s 22ms/step - loss: 0.1420 - accuracy: 0.9473\n",
            "375/375 [==============================] - 2s 5ms/step\n",
            "Epoch 1/20\n",
            "1500/1500 [==============================] - 34s 22ms/step - loss: 0.5494 - accuracy: 0.8065\n",
            "Epoch 2/20\n",
            "1500/1500 [==============================] - 33s 22ms/step - loss: 0.3708 - accuracy: 0.8677\n",
            "Epoch 3/20\n",
            "1500/1500 [==============================] - 33s 22ms/step - loss: 0.3253 - accuracy: 0.8830\n",
            "Epoch 4/20\n",
            "1500/1500 [==============================] - 33s 22ms/step - loss: 0.3030 - accuracy: 0.8897\n",
            "Epoch 5/20\n",
            "1500/1500 [==============================] - 33s 22ms/step - loss: 0.2782 - accuracy: 0.8991\n",
            "Epoch 6/20\n",
            "1500/1500 [==============================] - 33s 22ms/step - loss: 0.2632 - accuracy: 0.9058\n",
            "Epoch 7/20\n",
            "1500/1500 [==============================] - 33s 22ms/step - loss: 0.2451 - accuracy: 0.9111\n",
            "Epoch 8/20\n",
            "1500/1500 [==============================] - 33s 22ms/step - loss: 0.2351 - accuracy: 0.9152\n",
            "Epoch 9/20\n",
            "1500/1500 [==============================] - 33s 22ms/step - loss: 0.2228 - accuracy: 0.9187\n",
            "Epoch 10/20\n",
            "1500/1500 [==============================] - 33s 22ms/step - loss: 0.2111 - accuracy: 0.9234\n",
            "Epoch 11/20\n",
            "1500/1500 [==============================] - 33s 22ms/step - loss: 0.2035 - accuracy: 0.9266\n",
            "Epoch 12/20\n",
            "1500/1500 [==============================] - 33s 22ms/step - loss: 0.1931 - accuracy: 0.9292\n",
            "Epoch 13/20\n",
            "1500/1500 [==============================] - 33s 22ms/step - loss: 0.1846 - accuracy: 0.9329\n",
            "Epoch 14/20\n",
            "1500/1500 [==============================] - 33s 22ms/step - loss: 0.1778 - accuracy: 0.9356\n",
            "Epoch 15/20\n",
            "1500/1500 [==============================] - 33s 22ms/step - loss: 0.1707 - accuracy: 0.9378\n",
            "Epoch 16/20\n",
            "1500/1500 [==============================] - 33s 22ms/step - loss: 0.1642 - accuracy: 0.9422\n",
            "Epoch 17/20\n",
            "1500/1500 [==============================] - 33s 22ms/step - loss: 0.1591 - accuracy: 0.9404\n",
            "Epoch 18/20\n",
            "1500/1500 [==============================] - 33s 22ms/step - loss: 0.1520 - accuracy: 0.9448\n",
            "Epoch 19/20\n",
            "1500/1500 [==============================] - 33s 22ms/step - loss: 0.1475 - accuracy: 0.9462\n",
            "Epoch 20/20\n",
            " 470/1500 [========>.....................] - ETA: 22s - loss: 0.1355 - accuracy: 0.9513"
          ]
        }
      ]
    },
    {
      "cell_type": "code",
      "source": [
        "# report performance\n",
        "print('Accuracy: %.3f (%.3f)' % (np.mean(scores), np.std(scores)))\n",
        "scores"
      ],
      "metadata": {
        "id": "jm0mcK_dHRzH"
      },
      "execution_count": null,
      "outputs": []
    },
    {
      "cell_type": "markdown",
      "source": [
        "## AlexNet\n"
      ],
      "metadata": {
        "id": "9fshQw6cMkuy"
      }
    },
    {
      "cell_type": "code",
      "source": [
        "rm -rf ./logs/ # remove previous log after each run"
      ],
      "metadata": {
        "id": "GeCoMa69Mku6"
      },
      "execution_count": null,
      "outputs": []
    },
    {
      "cell_type": "code",
      "source": [
        "log_dir = \"logs/fit/\" + datetime.datetime.now().strftime(\"%Y%m%d-%H%M%S\")\n",
        "tensorboard_callback = tf.keras.callbacks.TensorBoard(log_dir=log_dir, histogram_freq=1)\n"
      ],
      "metadata": {
        "id": "SO6Yh313Mku6"
      },
      "execution_count": null,
      "outputs": []
    },
    {
      "cell_type": "code",
      "source": [
        "# Create function returning a compiled network\n",
        "def create_AlexNetwork():\n",
        "  #Alexnet model for feature extraction\n",
        "\n",
        "  model = Sequential()\n",
        "  model.add(BatchNormalization(input_shape=(training_images[0].shape)))\n",
        "  model.add(Activation('relu'))\n",
        "  model.add(MaxPooling2D(pool_size=(2, 2)))\n",
        "\n",
        "  model.add(Conv2D(28, (5, 5),padding='same'))\n",
        "  model.add(BatchNormalization())\n",
        "  model.add(Activation('relu'))\n",
        "  model.add(MaxPooling2D(pool_size=(2, 2)))\n",
        "\n",
        "  # model.add(ZeroPadding2D((1, 1)))\n",
        "  model.add(Conv2D(28, (3, 3), padding='same'))\n",
        "  model.add(BatchNormalization())\n",
        "  model.add(Activation('relu'))\n",
        "  model.add(MaxPooling2D(pool_size=(2, 2)))\n",
        "\n",
        "  # model.add(ZeroPadding2D((1, 1)))\n",
        "  model.add(Conv2D(32, (3, 3), padding='same'))\n",
        "  model.add(BatchNormalization())\n",
        "  model.add(Activation('relu'))\n",
        "\n",
        "  # model.add(ZeroPadding2D((1, 1)))\n",
        "  model.add(Conv2D(64, (3, 3), padding='same'))\n",
        "  model.add(BatchNormalization())\n",
        "  model.add(Activation('relu'))\n",
        "  model.add(MaxPooling2D(pool_size=(2, 2)))\n",
        "\n",
        "  model.add(Flatten())\n",
        "  model.add(Dense(128))\n",
        "  model.add(BatchNormalization())\n",
        "  model.add(Activation('relu'))\n",
        "  model.add(Dropout(0.5))\n",
        "\n",
        "  model.add(Dense(256))\n",
        "  model.add(BatchNormalization())\n",
        "  model.add(Activation('relu'))\n",
        "  model.add(Dropout(0.5))\n",
        "\n",
        "  model.add(Dense(10))\n",
        "  model.add(BatchNormalization())\n",
        "  model.add(Activation('softmax'))\n",
        "\n",
        "  adam = Adam(learning_rate=0.001)\n",
        "  model.compile(loss='categorical_crossentropy', optimizer=adam, metrics=['accuracy'])\n",
        "\n",
        "  return model"
      ],
      "metadata": {
        "id": "b8QKmIhlMku6"
      },
      "execution_count": null,
      "outputs": []
    },
    {
      "cell_type": "code",
      "source": [
        "alexnet = create_AlexNetwork()\n",
        "alexnet.summary()"
      ],
      "metadata": {
        "colab": {
          "base_uri": "https://localhost:8080/"
        },
        "outputId": "aa19c11e-32e8-44d8-a407-f056ae100fbf",
        "id": "bLiQcpXcMku6"
      },
      "execution_count": null,
      "outputs": [
        {
          "output_type": "stream",
          "name": "stdout",
          "text": [
            "Model: \"sequential_24\"\n",
            "_________________________________________________________________\n",
            " Layer (type)                Output Shape              Param #   \n",
            "=================================================================\n",
            " batch_normalization_136 (Ba  (None, 28, 28, 1)        4         \n",
            " tchNormalization)                                               \n",
            "                                                                 \n",
            " activation_136 (Activation)  (None, 28, 28, 1)        0         \n",
            "                                                                 \n",
            " max_pooling2d_82 (MaxPoolin  (None, 14, 14, 1)        0         \n",
            " g2D)                                                            \n",
            "                                                                 \n",
            " conv2d_89 (Conv2D)          (None, 14, 14, 28)        728       \n",
            "                                                                 \n",
            " batch_normalization_137 (Ba  (None, 14, 14, 28)       112       \n",
            " tchNormalization)                                               \n",
            "                                                                 \n",
            " activation_137 (Activation)  (None, 14, 14, 28)       0         \n",
            "                                                                 \n",
            " max_pooling2d_83 (MaxPoolin  (None, 7, 7, 28)         0         \n",
            " g2D)                                                            \n",
            "                                                                 \n",
            " conv2d_90 (Conv2D)          (None, 7, 7, 28)          7084      \n",
            "                                                                 \n",
            " batch_normalization_138 (Ba  (None, 7, 7, 28)         112       \n",
            " tchNormalization)                                               \n",
            "                                                                 \n",
            " activation_138 (Activation)  (None, 7, 7, 28)         0         \n",
            "                                                                 \n",
            " max_pooling2d_84 (MaxPoolin  (None, 3, 3, 28)         0         \n",
            " g2D)                                                            \n",
            "                                                                 \n",
            " conv2d_91 (Conv2D)          (None, 3, 3, 32)          8096      \n",
            "                                                                 \n",
            " batch_normalization_139 (Ba  (None, 3, 3, 32)         128       \n",
            " tchNormalization)                                               \n",
            "                                                                 \n",
            " activation_139 (Activation)  (None, 3, 3, 32)         0         \n",
            "                                                                 \n",
            " conv2d_92 (Conv2D)          (None, 3, 3, 64)          18496     \n",
            "                                                                 \n",
            " batch_normalization_140 (Ba  (None, 3, 3, 64)         256       \n",
            " tchNormalization)                                               \n",
            "                                                                 \n",
            " activation_140 (Activation)  (None, 3, 3, 64)         0         \n",
            "                                                                 \n",
            " max_pooling2d_85 (MaxPoolin  (None, 1, 1, 64)         0         \n",
            " g2D)                                                            \n",
            "                                                                 \n",
            " flatten_24 (Flatten)        (None, 64)                0         \n",
            "                                                                 \n",
            " dense_65 (Dense)            (None, 128)               8320      \n",
            "                                                                 \n",
            " batch_normalization_141 (Ba  (None, 128)              512       \n",
            " tchNormalization)                                               \n",
            "                                                                 \n",
            " activation_141 (Activation)  (None, 128)              0         \n",
            "                                                                 \n",
            " dropout_41 (Dropout)        (None, 128)               0         \n",
            "                                                                 \n",
            " dense_66 (Dense)            (None, 256)               33024     \n",
            "                                                                 \n",
            " batch_normalization_142 (Ba  (None, 256)              1024      \n",
            " tchNormalization)                                               \n",
            "                                                                 \n",
            " activation_142 (Activation)  (None, 256)              0         \n",
            "                                                                 \n",
            " dropout_42 (Dropout)        (None, 256)               0         \n",
            "                                                                 \n",
            " dense_67 (Dense)            (None, 10)                2570      \n",
            "                                                                 \n",
            " batch_normalization_143 (Ba  (None, 10)               40        \n",
            " tchNormalization)                                               \n",
            "                                                                 \n",
            " activation_143 (Activation)  (None, 10)               0         \n",
            "                                                                 \n",
            "=================================================================\n",
            "Total params: 80,506\n",
            "Trainable params: 79,412\n",
            "Non-trainable params: 1,094\n",
            "_________________________________________________________________\n"
          ]
        }
      ]
    },
    {
      "cell_type": "code",
      "source": [
        "hist = alexnet.fit(\n",
        "    training_images, \n",
        "    training_labels_encoded, \n",
        "    validation_data=(test_images, test_labels_encoded),\n",
        "    epochs=60,\n",
        "    batch_size=128,\n",
        "    callbacks=[\n",
        "        tensorboard_callback\n",
        "    ],\n",
        "    verbose=1)\n"
      ],
      "metadata": {
        "colab": {
          "base_uri": "https://localhost:8080/"
        },
        "outputId": "920cfd07-8573-4caf-defd-e6744a297477",
        "id": "Bs7owGQtMku6"
      },
      "execution_count": null,
      "outputs": [
        {
          "output_type": "stream",
          "name": "stdout",
          "text": [
            "Epoch 1/60\n",
            "469/469 [==============================] - 33s 67ms/step - loss: 0.8923 - accuracy: 0.7529 - val_loss: 0.6420 - val_accuracy: 0.8169\n",
            "Epoch 2/60\n",
            "469/469 [==============================] - 31s 65ms/step - loss: 0.5471 - accuracy: 0.8463 - val_loss: 0.4729 - val_accuracy: 0.8467\n",
            "Epoch 3/60\n",
            "469/469 [==============================] - 31s 65ms/step - loss: 0.4607 - accuracy: 0.8619 - val_loss: 0.5076 - val_accuracy: 0.8236\n",
            "Epoch 4/60\n",
            "469/469 [==============================] - 31s 65ms/step - loss: 0.4207 - accuracy: 0.8672 - val_loss: 0.4454 - val_accuracy: 0.8417\n",
            "Epoch 5/60\n",
            "469/469 [==============================] - 32s 69ms/step - loss: 0.3953 - accuracy: 0.8730 - val_loss: 0.4226 - val_accuracy: 0.8537\n",
            "Epoch 6/60\n",
            "469/469 [==============================] - 31s 66ms/step - loss: 0.3660 - accuracy: 0.8812 - val_loss: 0.3974 - val_accuracy: 0.8636\n",
            "Epoch 7/60\n",
            "469/469 [==============================] - 31s 66ms/step - loss: 0.3543 - accuracy: 0.8832 - val_loss: 0.3979 - val_accuracy: 0.8569\n",
            "Epoch 8/60\n",
            "469/469 [==============================] - 31s 65ms/step - loss: 0.3356 - accuracy: 0.8892 - val_loss: 0.3713 - val_accuracy: 0.8703\n",
            "Epoch 9/60\n",
            "469/469 [==============================] - 31s 65ms/step - loss: 0.3248 - accuracy: 0.8911 - val_loss: 0.3748 - val_accuracy: 0.8711\n",
            "Epoch 10/60\n",
            "469/469 [==============================] - 31s 65ms/step - loss: 0.3147 - accuracy: 0.8935 - val_loss: 0.4062 - val_accuracy: 0.8526\n",
            "Epoch 11/60\n",
            "469/469 [==============================] - 31s 65ms/step - loss: 0.3028 - accuracy: 0.8968 - val_loss: 0.3284 - val_accuracy: 0.8847\n",
            "Epoch 12/60\n",
            "469/469 [==============================] - 31s 65ms/step - loss: 0.2931 - accuracy: 0.8999 - val_loss: 0.4152 - val_accuracy: 0.8497\n",
            "Epoch 13/60\n",
            "469/469 [==============================] - 31s 66ms/step - loss: 0.2881 - accuracy: 0.9018 - val_loss: 0.3495 - val_accuracy: 0.8777\n",
            "Epoch 14/60\n",
            "469/469 [==============================] - 31s 65ms/step - loss: 0.2809 - accuracy: 0.9036 - val_loss: 0.3573 - val_accuracy: 0.8773\n",
            "Epoch 15/60\n",
            "469/469 [==============================] - 31s 65ms/step - loss: 0.2714 - accuracy: 0.9074 - val_loss: 0.3526 - val_accuracy: 0.8736\n",
            "Epoch 16/60\n",
            "469/469 [==============================] - 31s 65ms/step - loss: 0.2695 - accuracy: 0.9072 - val_loss: 0.4001 - val_accuracy: 0.8570\n",
            "Epoch 17/60\n",
            "469/469 [==============================] - 31s 65ms/step - loss: 0.2581 - accuracy: 0.9108 - val_loss: 0.3560 - val_accuracy: 0.8782\n",
            "Epoch 18/60\n",
            "469/469 [==============================] - 31s 65ms/step - loss: 0.2519 - accuracy: 0.9129 - val_loss: 0.3772 - val_accuracy: 0.8683\n",
            "Epoch 19/60\n",
            "469/469 [==============================] - 31s 65ms/step - loss: 0.2498 - accuracy: 0.9135 - val_loss: 0.3575 - val_accuracy: 0.8794\n",
            "Epoch 20/60\n",
            "469/469 [==============================] - 31s 66ms/step - loss: 0.2410 - accuracy: 0.9165 - val_loss: 0.3462 - val_accuracy: 0.8824\n",
            "Epoch 21/60\n",
            "469/469 [==============================] - 31s 65ms/step - loss: 0.2380 - accuracy: 0.9178 - val_loss: 0.3867 - val_accuracy: 0.8704\n",
            "Epoch 22/60\n",
            "469/469 [==============================] - 31s 65ms/step - loss: 0.2322 - accuracy: 0.9191 - val_loss: 0.3873 - val_accuracy: 0.8694\n",
            "Epoch 23/60\n",
            "469/469 [==============================] - 31s 65ms/step - loss: 0.2274 - accuracy: 0.9210 - val_loss: 0.3497 - val_accuracy: 0.8820\n",
            "Epoch 24/60\n",
            "469/469 [==============================] - 31s 65ms/step - loss: 0.2240 - accuracy: 0.9221 - val_loss: 0.3668 - val_accuracy: 0.8773\n",
            "Epoch 25/60\n",
            "469/469 [==============================] - 31s 65ms/step - loss: 0.2177 - accuracy: 0.9247 - val_loss: 0.3468 - val_accuracy: 0.8801\n",
            "Epoch 26/60\n",
            "469/469 [==============================] - 31s 65ms/step - loss: 0.2133 - accuracy: 0.9267 - val_loss: 0.3770 - val_accuracy: 0.8733\n",
            "Epoch 27/60\n",
            "469/469 [==============================] - 31s 65ms/step - loss: 0.2071 - accuracy: 0.9274 - val_loss: 0.3626 - val_accuracy: 0.8768\n",
            "Epoch 28/60\n",
            "469/469 [==============================] - 31s 65ms/step - loss: 0.2057 - accuracy: 0.9277 - val_loss: 0.4079 - val_accuracy: 0.8638\n",
            "Epoch 29/60\n",
            "469/469 [==============================] - 31s 65ms/step - loss: 0.2011 - accuracy: 0.9304 - val_loss: 0.4218 - val_accuracy: 0.8617\n",
            "Epoch 30/60\n",
            "469/469 [==============================] - 31s 65ms/step - loss: 0.1929 - accuracy: 0.9331 - val_loss: 0.3666 - val_accuracy: 0.8802\n",
            "Epoch 31/60\n",
            "469/469 [==============================] - 31s 65ms/step - loss: 0.1946 - accuracy: 0.9314 - val_loss: 0.3829 - val_accuracy: 0.8787\n",
            "Epoch 32/60\n",
            "469/469 [==============================] - 31s 66ms/step - loss: 0.1878 - accuracy: 0.9349 - val_loss: 0.3696 - val_accuracy: 0.8754\n",
            "Epoch 33/60\n",
            "469/469 [==============================] - 31s 66ms/step - loss: 0.1849 - accuracy: 0.9356 - val_loss: 0.3754 - val_accuracy: 0.8834\n",
            "Epoch 34/60\n",
            "469/469 [==============================] - 31s 66ms/step - loss: 0.1812 - accuracy: 0.9364 - val_loss: 0.4207 - val_accuracy: 0.8678\n",
            "Epoch 35/60\n",
            "469/469 [==============================] - 31s 66ms/step - loss: 0.1764 - accuracy: 0.9381 - val_loss: 0.3728 - val_accuracy: 0.8822\n",
            "Epoch 36/60\n",
            "469/469 [==============================] - 31s 66ms/step - loss: 0.1754 - accuracy: 0.9389 - val_loss: 0.3736 - val_accuracy: 0.8836\n",
            "Epoch 37/60\n",
            "469/469 [==============================] - 31s 65ms/step - loss: 0.1735 - accuracy: 0.9411 - val_loss: 0.4020 - val_accuracy: 0.8756\n",
            "Epoch 38/60\n",
            "469/469 [==============================] - 31s 66ms/step - loss: 0.1695 - accuracy: 0.9405 - val_loss: 0.3810 - val_accuracy: 0.8844\n",
            "Epoch 39/60\n",
            "469/469 [==============================] - 31s 66ms/step - loss: 0.1667 - accuracy: 0.9412 - val_loss: 0.3748 - val_accuracy: 0.8834\n",
            "Epoch 40/60\n",
            "469/469 [==============================] - 31s 66ms/step - loss: 0.1618 - accuracy: 0.9431 - val_loss: 0.4175 - val_accuracy: 0.8762\n",
            "Epoch 41/60\n",
            "469/469 [==============================] - 31s 66ms/step - loss: 0.1610 - accuracy: 0.9429 - val_loss: 0.3937 - val_accuracy: 0.8800\n",
            "Epoch 42/60\n",
            "469/469 [==============================] - 31s 66ms/step - loss: 0.1569 - accuracy: 0.9445 - val_loss: 0.4208 - val_accuracy: 0.8728\n",
            "Epoch 43/60\n",
            "469/469 [==============================] - 31s 66ms/step - loss: 0.1543 - accuracy: 0.9454 - val_loss: 0.4009 - val_accuracy: 0.8794\n",
            "Epoch 44/60\n",
            "469/469 [==============================] - 31s 66ms/step - loss: 0.1516 - accuracy: 0.9467 - val_loss: 0.4111 - val_accuracy: 0.8807\n",
            "Epoch 45/60\n",
            "469/469 [==============================] - 31s 65ms/step - loss: 0.1487 - accuracy: 0.9479 - val_loss: 0.4089 - val_accuracy: 0.8833\n",
            "Epoch 46/60\n",
            "469/469 [==============================] - 31s 66ms/step - loss: 0.1453 - accuracy: 0.9492 - val_loss: 0.4142 - val_accuracy: 0.8797\n",
            "Epoch 47/60\n",
            "469/469 [==============================] - 31s 66ms/step - loss: 0.1459 - accuracy: 0.9486 - val_loss: 0.4089 - val_accuracy: 0.8771\n",
            "Epoch 48/60\n",
            "469/469 [==============================] - 31s 66ms/step - loss: 0.1410 - accuracy: 0.9504 - val_loss: 0.4448 - val_accuracy: 0.8765\n",
            "Epoch 49/60\n",
            "469/469 [==============================] - 31s 66ms/step - loss: 0.1416 - accuracy: 0.9499 - val_loss: 0.4128 - val_accuracy: 0.8800\n",
            "Epoch 50/60\n",
            "469/469 [==============================] - 31s 65ms/step - loss: 0.1374 - accuracy: 0.9527 - val_loss: 0.4176 - val_accuracy: 0.8798\n",
            "Epoch 51/60\n",
            "469/469 [==============================] - 31s 66ms/step - loss: 0.1333 - accuracy: 0.9533 - val_loss: 0.4267 - val_accuracy: 0.8802\n",
            "Epoch 52/60\n",
            "469/469 [==============================] - 31s 66ms/step - loss: 0.1315 - accuracy: 0.9532 - val_loss: 0.4316 - val_accuracy: 0.8759\n",
            "Epoch 53/60\n",
            "469/469 [==============================] - 31s 65ms/step - loss: 0.1342 - accuracy: 0.9526 - val_loss: 0.4290 - val_accuracy: 0.8784\n",
            "Epoch 54/60\n",
            "469/469 [==============================] - 31s 66ms/step - loss: 0.1279 - accuracy: 0.9549 - val_loss: 0.4525 - val_accuracy: 0.8809\n",
            "Epoch 55/60\n",
            "469/469 [==============================] - 31s 66ms/step - loss: 0.1263 - accuracy: 0.9563 - val_loss: 0.4521 - val_accuracy: 0.8733\n",
            "Epoch 56/60\n",
            "469/469 [==============================] - 31s 65ms/step - loss: 0.1246 - accuracy: 0.9566 - val_loss: 0.4620 - val_accuracy: 0.8713\n",
            "Epoch 57/60\n",
            "469/469 [==============================] - 31s 65ms/step - loss: 0.1213 - accuracy: 0.9575 - val_loss: 0.4540 - val_accuracy: 0.8771\n",
            "Epoch 58/60\n",
            "469/469 [==============================] - 31s 65ms/step - loss: 0.1224 - accuracy: 0.9575 - val_loss: 0.4567 - val_accuracy: 0.8696\n",
            "Epoch 59/60\n",
            "469/469 [==============================] - 31s 65ms/step - loss: 0.1226 - accuracy: 0.9567 - val_loss: 0.4321 - val_accuracy: 0.8783\n",
            "Epoch 60/60\n",
            "469/469 [==============================] - 31s 65ms/step - loss: 0.1181 - accuracy: 0.9592 - val_loss: 0.4513 - val_accuracy: 0.8771\n"
          ]
        }
      ]
    },
    {
      "cell_type": "code",
      "source": [
        "# Wrap Keras model so it can be used by scikit-learn\n",
        "from scikeras.wrappers import KerasClassifier\n",
        "alex_network = KerasClassifier(model=create_AlexNetwork, \n",
        "                                 epochs=10, \n",
        "                                 batch_size=64, \n",
        "                                 verbose=0)"
      ],
      "metadata": {
        "id": "CJvPBe4TMku7"
      },
      "execution_count": null,
      "outputs": []
    },
    {
      "cell_type": "code",
      "source": [
        "%%time\n",
        "cv = KFold(n_splits=5, random_state=1, shuffle=True)\n",
        "# evaluate model\n",
        "scores = cross_val_score(alex_network, all_images, all_labels, scoring='accuracy', cv=cv)\n",
        "# report performance\n",
        "print('Accuracy: %.3f (%.3f)' % (np.mean(scores), np.std(scores)))\n",
        "scores"
      ],
      "metadata": {
        "colab": {
          "base_uri": "https://localhost:8080/"
        },
        "outputId": "0abc4dae-dad5-4361-ff58-1b3ab2d47725",
        "id": "M2UfHUCXMku7"
      },
      "execution_count": null,
      "outputs": [
        {
          "output_type": "stream",
          "name": "stdout",
          "text": [
            "Accuracy: 0.879 (0.003)\n",
            "CPU times: user 38min 33s, sys: 1min 54s, total: 40min 27s\n",
            "Wall time: 22min 38s\n"
          ]
        }
      ]
    },
    {
      "cell_type": "code",
      "source": [
        "val_acc = hist.history['val_accuracy']\n",
        "acc = hist.history['accuracy']\n",
        "val_loss = hist.history['val_loss']\n",
        "loss = hist.history['loss']"
      ],
      "metadata": {
        "id": "b_frLFuuMku7"
      },
      "execution_count": null,
      "outputs": []
    },
    {
      "cell_type": "code",
      "source": [
        "print(\"\\nValue Accuracy | \",round(np.mean(scores)*100,2),'%')\n",
        "fig = plt.figure(figsize=(16,6))\n",
        "plt.plot(np.arange(len(val_acc)),val_acc,label='val_accuracy')\n",
        "plt.plot(np.arange(len(acc)),acc,label='Accuracy')\n",
        "plt.xlabel(\"EPOCHS\")\n",
        "plt.ylabel('ACCURACY')\n",
        "plt.legend()\n",
        "plt.grid()\n",
        "sns.despine(left=True)\n",
        "plt.show()"
      ],
      "metadata": {
        "colab": {
          "base_uri": "https://localhost:8080/",
          "height": 429
        },
        "outputId": "d3bf118d-545e-4abd-f481-5c5ba470a982",
        "id": "XHbWb1d_Mku7"
      },
      "execution_count": null,
      "outputs": [
        {
          "output_type": "stream",
          "name": "stdout",
          "text": [
            "\n",
            "Value Accuracy |  87.94 %\n"
          ]
        },
        {
          "output_type": "display_data",
          "data": {
            "text/plain": [
              "<Figure size 1152x432 with 1 Axes>"
            ],
            "image/png": "[encoded data removed]"
          },
          "metadata": {}
        }
      ]
    },
    {
      "cell_type": "code",
      "source": [
        "fig = plt.figure(figsize=(14,6))\n",
        "plt.plot(np.arange(len(val_loss)),val_loss,label='val_loss')\n",
        "plt.plot(np.arange(len(loss)),loss,label='loss')\n",
        "plt.ylim(0.1,0.8)\n",
        "plt.xlabel('EPOCHS')\n",
        "plt.ylabel('LOSS')\n",
        "plt.title('Convergence Curve')\n",
        "plt.legend()\n",
        "plt.grid()\n",
        "sns.despine(left=True)\n",
        "plt.show()"
      ],
      "metadata": {
        "colab": {
          "base_uri": "https://localhost:8080/",
          "height": 410
        },
        "outputId": "37973992-f48a-48c4-cfb9-04722057c54f",
        "id": "2bZxvfnFMku7"
      },
      "execution_count": null,
      "outputs": [
        {
          "output_type": "display_data",
          "data": {
            "text/plain": [
              "<Figure size 1008x432 with 1 Axes>"
            ],
            "image/png": "[encoded data removed]"
          },
          "metadata": {}
        }
      ]
    },
    {
      "cell_type": "markdown",
      "source": [
        "# Tensor Board"
      ],
      "metadata": {
        "id": "FyC_yV2rLuzQ"
      }
    },
    {
      "cell_type": "markdown",
      "source": [
        "## LeNet-5 Trial\n"
      ],
      "metadata": {
        "id": "EYit6ysRqLao"
      }
    },
    {
      "cell_type": "code",
      "execution_count": null,
      "metadata": {
        "id": "EaXn-jeb3OvL"
      },
      "outputs": [],
      "source": [
        "%tensorboard --logdir logs # the magic line that will get us the learning graphs , document every run and save screen shot of all the failure"
      ]
    },
    {
      "cell_type": "code",
      "execution_count": null,
      "metadata": {
        "colab": {
          "base_uri": "https://localhost:8080/"
        },
        "id": "GFtQV-omVz3j",
        "outputId": "0a0f9aef-5312-4ef3-eb88-9721dba1fd84"
      },
      "outputs": [
        {
          "output_type": "stream",
          "name": "stdout",
          "text": [
            "2022-04-04 10:39:52.805286: E tensorflow/stream_executor/cuda/cuda_driver.cc:271] failed call to cuInit: CUDA_ERROR_NO_DEVICE: no CUDA-capable device is detected\n",
            "\n",
            "***** TensorBoard Uploader *****\n",
            "\n",
            "This will upload your TensorBoard logs to https://tensorboard.dev/ from\n",
            "the following directory:\n",
            "\n",
            "./logs\n",
            "\n",
            "This TensorBoard will be visible to everyone. Do not upload sensitive\n",
            "data.\n",
            "\n",
            "Your use of this service is subject to Google's Terms of Service\n",
            "<https://policies.google.com/terms> and Privacy Policy\n",
            "<https://policies.google.com/privacy>, and TensorBoard.dev's Terms of Service\n",
            "<https://tensorboard.dev/policy/terms/>.\n",
            "\n",
            "This notice will not be shown again while you are logged into the uploader.\n",
            "To log out, run `tensorboard dev auth revoke`.\n",
            "\n",
            "Continue? (yes/NO) yes\n",
            "\n",
            "Please visit this URL to authorize this application: https://accounts.google.com/o/oauth2/auth?response_type=code&client_id=373649185512-8v619h5kft38l4456nm2dj4ubeqsrvh6.apps.googleusercontent.com&redirect_uri=urn%3Aietf%3Awg%3Aoauth%3A2.0%3Aoob&scope=openid+https%3A%2F%2Fwww.googleapis.com%2Fauth%2Fuserinfo.email&state=G00JdZDtVKdZ27xV40BvY5xDKeTkJD&prompt=consent&access_type=offline\n",
            "Enter the authorization code: 4/1AX4XfWhF6kllGwzJyPhiWKquMHKGNc8QfI0iyZP2RZ5Rhba3R4ccDCkCiAc\n",
            "\n",
            "\n",
            "New experiment created. View your TensorBoard at: https://tensorboard.dev/experiment/EzA1YGjbT2WXIemeoKeTKg/\n",
            "\n",
            "\u001b[1m[2022-04-04T10:41:06]\u001b[0m Started scanning logdir.\n",
            "\u001b[1m[2022-04-04T10:41:07]\u001b[0m Total uploaded: 150 scalars, 250 tensors (179.4 kB), 1 binary objects (54.4 kB)\n",
            "\u001b[1m[2022-04-04T10:41:07]\u001b[0m Done scanning logdir.\n",
            "\n",
            "\n",
            "Done. View your TensorBoard at https://tensorboard.dev/experiment/EzA1YGjbT2WXIemeoKeTKg/\n"
          ]
        }
      ],
      "source": [
        "!tensorboard dev upload --logdir ./logs \\\n",
        "  --name \" LeNet-5\" \\\n",
        "  --one_shot"
      ]
    },
    {
      "cell_type": "markdown",
      "source": [
        "## AlexNet Trial\n",
        "\n"
      ],
      "metadata": {
        "id": "mpkpVOYGqTiU"
      }
    },
    {
      "cell_type": "code",
      "execution_count": null,
      "metadata": {
        "id": "KjlM1CXeqhfM"
      },
      "outputs": [],
      "source": [
        "%tensorboard --logdir logs # the magic line that will get us the learning graphs , document every run and save screen shot of all the failure"
      ]
    },
    {
      "cell_type": "code",
      "execution_count": null,
      "metadata": {
        "colab": {
          "base_uri": "https://localhost:8080/"
        },
        "outputId": "25d2e6d5-a5b3-46ce-bb95-c8576a130370",
        "id": "L8qa6cDAqhfO"
      },
      "outputs": [
        {
          "output_type": "stream",
          "name": "stdout",
          "text": [
            "2022-04-04 18:39:29.238357: E tensorflow/stream_executor/cuda/cuda_driver.cc:271] failed call to cuInit: CUDA_ERROR_NO_DEVICE: no CUDA-capable device is detected\n",
            "\n",
            "New experiment created. View your TensorBoard at: https://tensorboard.dev/experiment/KSOKfyNqRrevuRlpWduGsw/\n",
            "\n",
            "\u001b[1m[2022-04-04T18:39:29]\u001b[0m Started scanning logdir.\n",
            "E0404 18:39:30.855987 139896030754688 uploader.py:1122] Attempted to re-upload existing blob.  Skipping.\n",
            "E0404 18:39:31.839533 139896030754688 uploader.py:1122] Attempted to re-upload existing blob.  Skipping.\n",
            "\u001b[1m[2022-04-04T18:39:36]\u001b[0m Total uploaded: 384 scalars, 2944 tensors (2.1 MB), 1 binary objects (174.7 kB)\n",
            "\u001b[90mTotal skipped: 2 binary objects (349.3 kB)\n",
            "\u001b[0m\u001b[1m[2022-04-04T18:39:36]\u001b[0m Done scanning logdir.\n",
            "\n",
            "\n",
            "Done. View your TensorBoard at https://tensorboard.dev/experiment/KSOKfyNqRrevuRlpWduGsw/\n"
          ]
        }
      ],
      "source": [
        "!tensorboard dev upload --logdir ./logs \\\n",
        "  --name \"AlexNet\" \\\n",
        "  --one_shot"
      ]
    },
    {
      "cell_type": "markdown",
      "source": [
        "## Trials List"
      ],
      "metadata": {
        "id": "0e95PoXOqZ9j"
      }
    },
    {
      "cell_type": "code",
      "execution_count": null,
      "metadata": {
        "id": "b9mV1_yBfGwq",
        "colab": {
          "base_uri": "https://localhost:8080/"
        },
        "outputId": "15730eea-d9b6-4efa-f47e-adb2fa596c2f"
      },
      "outputs": [
        {
          "output_type": "stream",
          "name": "stdout",
          "text": [
            "2022-04-04 18:39:48.484862: E tensorflow/stream_executor/cuda/cuda_driver.cc:271] failed call to cuInit: CUDA_ERROR_NO_DEVICE: no CUDA-capable device is detected\n",
            "https://tensorboard.dev/experiment/KSOKfyNqRrevuRlpWduGsw/\n",
            "\tName                 AlexNet\n",
            "\tDescription          [No Description]\n",
            "\tId                   KSOKfyNqRrevuRlpWduGsw\n",
            "\tCreated              2022-04-04 18:39:29 (30 seconds ago)\n",
            "\tUpdated              2022-04-04 18:39:36 (23 seconds ago)\n",
            "\tRuns                 2\n",
            "\tTags                 97\n",
            "\tScalars              384\n",
            "\tTensor bytes         2399360\n",
            "\tBinary object bytes  179022\n",
            "https://tensorboard.dev/experiment/48oSeNPMQg27fOV1qc3gUg/\n",
            "\tName                 AlexNet\n",
            "\tDescription          [No Description]\n",
            "\tId                   48oSeNPMQg27fOV1qc3gUg\n",
            "\tCreated              2022-04-04 16:33:36 (2 hours ago)\n",
            "\tUpdated              2022-04-04 16:33:43 (2 hours ago)\n",
            "\tRuns                 2\n",
            "\tTags                 97\n",
            "\tScalars              450\n",
            "\tTensor bytes         2811750\n",
            "\tBinary object bytes  172550\n",
            "https://tensorboard.dev/experiment/EzA1YGjbT2WXIemeoKeTKg/\n",
            "\tName                  LeNet-5\n",
            "\tDescription          [No Description]\n",
            "\tId                   EzA1YGjbT2WXIemeoKeTKg\n",
            "\tCreated              2022-04-04 10:41:06 (7 hours ago)\n",
            "\tUpdated              2022-04-04 10:41:07 (7 hours ago)\n",
            "\tRuns                 2\n",
            "\tTags                 15\n",
            "\tScalars              150\n",
            "\tTensor bytes         203750\n",
            "\tBinary object bytes  55831\n",
            "https://tensorboard.dev/experiment/WS7udXL3Sbil0C7u0JbACQ/\n",
            "\tName                 Simple experiment with tensorboard\n",
            "\tDescription          [No Description]\n",
            "\tId                   WS7udXL3Sbil0C7u0JbACQ\n",
            "\tCreated              2022-02-27 14:03:31\n",
            "\tUpdated              2022-02-27 14:03:37\n",
            "\tRuns                 15\n",
            "\tTags                 13\n",
            "\tScalars              1500\n",
            "\tTensor bytes         1223360\n",
            "\tBinary object bytes  289510\n",
            "Total: 4 experiment(s)\n"
          ]
        }
      ],
      "source": [
        "!tensorboard dev list"
      ]
    }
  ]
}